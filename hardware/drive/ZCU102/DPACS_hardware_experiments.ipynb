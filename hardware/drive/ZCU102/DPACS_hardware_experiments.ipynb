{
 "cells": [
  {
   "cell_type": "markdown",
   "metadata": {},
   "source": [
    "# Testing latency of DPUnits\n",
    "\n",
    "This jupyter notebook contains latency test code and output of DPCAS architecture. Run throughout all the cells to reproduce the results.\n",
    "\n",
    "Note: If there is OS ERROR on memory allocation, please try restart the kernel and continue from where it stucks. If this can not solve the problem, reboot the board from command line.\n"
   ]
  },
  {
   "cell_type": "code",
   "execution_count": 1,
   "metadata": {},
   "outputs": [
    {
     "data": {
      "application/javascript": [
       "\n",
       "try {\n",
       "require(['notebook/js/codecell'], function(codecell) {\n",
       "  codecell.CodeCell.options_default.highlight_modes[\n",
       "      'magic_text/x-csrc'] = {'reg':[/^%%microblaze/]};\n",
       "  Jupyter.notebook.events.one('kernel_ready.Kernel', function(){\n",
       "      Jupyter.notebook.get_cells().map(function(cell){\n",
       "          if (cell.cell_type == 'code'){ cell.auto_highlight(); } }) ;\n",
       "  });\n",
       "});\n",
       "} catch (e) {};\n"
      ]
     },
     "metadata": {},
     "output_type": "display_data"
    },
    {
     "data": {
      "application/javascript": [
       "\n",
       "try {\n",
       "require(['notebook/js/codecell'], function(codecell) {\n",
       "  codecell.CodeCell.options_default.highlight_modes[\n",
       "      'magic_text/x-csrc'] = {'reg':[/^%%pybind11/]};\n",
       "  Jupyter.notebook.events.one('kernel_ready.Kernel', function(){\n",
       "      Jupyter.notebook.get_cells().map(function(cell){\n",
       "          if (cell.cell_type == 'code'){ cell.auto_highlight(); } }) ;\n",
       "  });\n",
       "});\n",
       "} catch (e) {};\n"
      ]
     },
     "metadata": {},
     "output_type": "display_data"
    }
   ],
   "source": [
    "import pynq\n",
    "from pynq import Overlay \n",
    "from pynq import allocate\n",
    "from pynq import Xlnk\n",
    "import numpy as np\n",
    "import time\n",
    "import matplotlib.pyplot as plt\n",
    "from matplotlib.patches import Rectangle\n",
    "import math\n",
    "import gc\n",
    "import json\n",
    "import os\n",
    "import pickle\n",
    "\n",
    "from resnet_basicblock_dense import *\n",
    "from resnet_bottleneck_dense import *\n",
    "from resnet_basicblock_sparse import *\n",
    "from resnet_bottleneck_sparse import *"
   ]
  },
  {
   "cell_type": "markdown",
   "metadata": {},
   "source": [
    "## ResNet 50 / 101 \n",
    "\n",
    "### Serial  PE Implementation Dense Baseline"
   ]
  },
  {
   "cell_type": "code",
   "execution_count": 2,
   "metadata": {},
   "outputs": [],
   "source": [
    "serial_dense_bottleneck = resnet_bottleneck_dense(\"./bitfiles/resnet_bottleneck_dense_serial.bit\")"
   ]
  },
  {
   "cell_type": "code",
   "execution_count": 3,
   "metadata": {
    "scrolled": false
   },
   "outputs": [
    {
     "name": "stdout",
     "output_type": "stream",
     "text": [
      "-------------------start-------------------\n",
      "Model: Dense ResNet50 \n",
      "Averaged latency:58.81169557571411 in 100 times of test\n",
      "-------------------end-------------------\n",
      "\n",
      "-------------------start-------------------\n",
      "Model: Dense ResNet101 \n",
      "Averaged latency:95.32502174377441 in 100 times of test\n",
      "-------------------end-------------------\n",
      "\n"
     ]
    }
   ],
   "source": [
    "serial_dense_bottleneck.resnet50(224, 224)\n",
    "serial_dense_bottleneck.resnet101(224, 224)"
   ]
  },
  {
   "cell_type": "markdown",
   "metadata": {},
   "source": [
    "### Parallel PE Implementation Dense Baseline"
   ]
  },
  {
   "cell_type": "code",
   "execution_count": 5,
   "metadata": {},
   "outputs": [],
   "source": [
    "parallel_dense_bottleneck = resnet_bottleneck_dense(\"./bitfiles/resnet_bottleneck_dense_parallel.bit\")"
   ]
  },
  {
   "cell_type": "code",
   "execution_count": 6,
   "metadata": {
    "scrolled": true
   },
   "outputs": [
    {
     "name": "stdout",
     "output_type": "stream",
     "text": [
      "-------------------start-------------------\n",
      "Model: Dense ResNet50 \n",
      "Averaged latency:32.839202880859375 in 100 times of test\n",
      "-------------------end-------------------\n",
      "\n",
      "-------------------start-------------------\n",
      "Model: Dense ResNet101 \n",
      "Averaged latency:49.47508096694946 in 100 times of test\n",
      "-------------------end-------------------\n",
      "\n"
     ]
    }
   ],
   "source": [
    "parallel_dense_bottleneck.resnet50(224, 224)\n",
    "parallel_dense_bottleneck.resnet101(224, 224)"
   ]
  },
  {
   "cell_type": "markdown",
   "metadata": {},
   "source": [
    "### Serial PE Implementation DPUnit"
   ]
  },
  {
   "cell_type": "code",
   "execution_count": 8,
   "metadata": {},
   "outputs": [],
   "source": [
    "serial_dpunit_bottleneck = resnet_bottleneck_sparse(\"./bitfiles/resnet_bottleneck_sparse_serial.bit\")"
   ]
  },
  {
   "cell_type": "code",
   "execution_count": 11,
   "metadata": {
    "scrolled": false
   },
   "outputs": [
    {
     "name": "stdout",
     "output_type": "stream",
     "text": [
      "------------------start--------------------\n",
      "Model: ResNet50 with spatial ratio 0.75 and channel ratio 0.75\n",
      "Averaged latency:44.237258434295654 in 100 times of test\n",
      "-------------------end-------------------\n",
      "\n",
      "------------------start--------------------\n",
      "Model: ResNet50 with spatial ratio 0.5 and channel ratio 0.5\n",
      "Averaged latency:31.787574291229248 in 100 times of test\n",
      "-------------------end-------------------\n",
      "\n",
      "------------------start--------------------\n",
      "Model: ResNet50 with spatial ratio 0.25 and channel ratio 0.25\n",
      "Averaged latency:24.374258518218994 in 100 times of test\n",
      "-------------------end-------------------\n",
      "\n",
      "-------------------start-------------------\n",
      "Model: ResNet101 with spatial ratio 0.75 and channel ratio 0.75\n",
      "Averaged latency:62.07793712615967 in 100 times of test\n",
      "-------------------end-------------------\n",
      "\n",
      "-------------------start-------------------\n",
      "Model: ResNet101 with spatial ratio 0.5 and channel ratio 0.5\n",
      "Averaged latency:40.49950361251831 in 100 times of test\n",
      "-------------------end-------------------\n",
      "\n",
      "-------------------start-------------------\n",
      "Model: ResNet101 with spatial ratio 0.25 and channel ratio 0.25\n",
      "Averaged latency:29.010486602783203 in 100 times of test\n",
      "-------------------end-------------------\n",
      "\n"
     ]
    }
   ],
   "source": [
    "## Block Mask\n",
    "serial_dpunit_bottleneck.resnet50(224, 224, share_mask=False, s_ratio=0.75, c_ratio=0.75)\n",
    "serial_dpunit_bottleneck.resnet50(224, 224, share_mask=False, s_ratio=0.5, c_ratio=0.5)\n",
    "serial_dpunit_bottleneck.resnet50(224, 224, share_mask=False, s_ratio=0.25, c_ratio=0.25)\n",
    "serial_dpunit_bottleneck.resnet101(224, 224, share_mask=False, s_ratio=0.75, c_ratio=0.75)\n",
    "serial_dpunit_bottleneck.resnet101(224, 224, share_mask=False, s_ratio=0.5, c_ratio=0.5)\n",
    "serial_dpunit_bottleneck.resnet101(224, 224, share_mask=False, s_ratio=0.25, c_ratio=0.25)"
   ]
  },
  {
   "cell_type": "code",
   "execution_count": 12,
   "metadata": {
    "scrolled": false
   },
   "outputs": [
    {
     "name": "stdout",
     "output_type": "stream",
     "text": [
      "------------------start--------------------\n",
      "Model: ResNet50 with spatial ratio 0.75 and channel ratio 0.75\n",
      "Averaged latency:45.07866382598877 in 100 times of test\n",
      "-------------------end-------------------\n",
      "\n",
      "------------------start--------------------\n",
      "Model: ResNet50 with spatial ratio 0.5 and channel ratio 0.5\n",
      "Averaged latency:32.16017246246338 in 100 times of test\n",
      "-------------------end-------------------\n",
      "\n",
      "------------------start--------------------\n",
      "Model: ResNet50 with spatial ratio 0.25 and channel ratio 0.25\n",
      "Averaged latency:23.27601194381714 in 100 times of test\n",
      "-------------------end-------------------\n",
      "\n",
      "-------------------start-------------------\n",
      "Model: ResNet101 with spatial ratio 0.75 and channel ratio 0.75\n",
      "Averaged latency:63.29248666763306 in 100 times of test\n",
      "-------------------end-------------------\n",
      "\n",
      "-------------------start-------------------\n",
      "Model: ResNet101 with spatial ratio 0.5 and channel ratio 0.5\n",
      "Averaged latency:40.27627468109131 in 100 times of test\n",
      "-------------------end-------------------\n",
      "\n",
      "-------------------start-------------------\n",
      "Model: ResNet101 with spatial ratio 0.25 and channel ratio 0.25\n",
      "Averaged latency:27.412915229797363 in 100 times of test\n",
      "-------------------end-------------------\n",
      "\n"
     ]
    }
   ],
   "source": [
    "## Resolution Mask\n",
    "serial_dpunit_bottleneck.resnet50(224, 224, share_mask=True, s_ratio=0.75, c_ratio=0.75)\n",
    "serial_dpunit_bottleneck.resnet50(224, 224, share_mask=True, s_ratio=0.5, c_ratio=0.5)\n",
    "serial_dpunit_bottleneck.resnet50(224, 224, share_mask=True, s_ratio=0.25, c_ratio=0.25)\n",
    "serial_dpunit_bottleneck.resnet101(224, 224, share_mask=True, s_ratio=0.75, c_ratio=0.75)\n",
    "serial_dpunit_bottleneck.resnet101(224, 224, share_mask=True, s_ratio=0.5, c_ratio=0.5)\n",
    "serial_dpunit_bottleneck.resnet101(224, 224, share_mask=True, s_ratio=0.25, c_ratio=0.25)"
   ]
  },
  {
   "cell_type": "markdown",
   "metadata": {},
   "source": [
    "### Parallel PE Implementation DPUnit"
   ]
  },
  {
   "cell_type": "code",
   "execution_count": 14,
   "metadata": {},
   "outputs": [],
   "source": [
    "parallel_dpunit_bottleneck = resnet_bottleneck_sparse(\"./bitfiles/resnet_bottleneck_sparse_parallel.bit\")"
   ]
  },
  {
   "cell_type": "code",
   "execution_count": 15,
   "metadata": {},
   "outputs": [
    {
     "name": "stdout",
     "output_type": "stream",
     "text": [
      "------------------start--------------------\n",
      "Model: ResNet50 with spatial ratio 0.75 and channel ratio 0.75\n",
      "Averaged latency:31.054868698120117 in 100 times of test\n",
      "-------------------end-------------------\n",
      "\n",
      "------------------start--------------------\n",
      "Model: ResNet50 with spatial ratio 0.5 and channel ratio 0.5\n",
      "Averaged latency:27.25517988204956 in 100 times of test\n",
      "-------------------end-------------------\n",
      "\n",
      "------------------start--------------------\n",
      "Model: ResNet50 with spatial ratio 0.25 and channel ratio 0.25\n",
      "Averaged latency:24.671287536621094 in 100 times of test\n",
      "-------------------end-------------------\n",
      "\n",
      "-------------------start-------------------\n",
      "Model: ResNet101 with spatial ratio 0.75 and channel ratio 0.75\n",
      "Averaged latency:43.291709423065186 in 100 times of test\n",
      "-------------------end-------------------\n",
      "\n",
      "-------------------start-------------------\n",
      "Model: ResNet101 with spatial ratio 0.5 and channel ratio 0.5\n",
      "Averaged latency:35.04376173019409 in 100 times of test\n",
      "-------------------end-------------------\n",
      "\n",
      "-------------------start-------------------\n",
      "Model: ResNet101 with spatial ratio 0.25 and channel ratio 0.25\n",
      "Averaged latency:29.48906183242798 in 100 times of test\n",
      "-------------------end-------------------\n",
      "\n"
     ]
    }
   ],
   "source": [
    "## Block Mask\n",
    "parallel_dpunit_bottleneck.resnet50(224, 224, share_mask=False, s_ratio=0.75, c_ratio=0.75)\n",
    "parallel_dpunit_bottleneck.resnet50(224, 224, share_mask=False, s_ratio=0.5, c_ratio=0.5)\n",
    "parallel_dpunit_bottleneck.resnet50(224, 224, share_mask=False, s_ratio=0.25, c_ratio=0.25)\n",
    "parallel_dpunit_bottleneck.resnet101(224, 224, share_mask=False, s_ratio=0.75, c_ratio=0.75)\n",
    "parallel_dpunit_bottleneck.resnet101(224, 224, share_mask=False, s_ratio=0.5, c_ratio=0.5)\n",
    "parallel_dpunit_bottleneck.resnet101(224, 224, share_mask=False, s_ratio=0.25, c_ratio=0.25)"
   ]
  },
  {
   "cell_type": "code",
   "execution_count": 16,
   "metadata": {
    "scrolled": false
   },
   "outputs": [
    {
     "name": "stdout",
     "output_type": "stream",
     "text": [
      "------------------start--------------------\n",
      "Model: ResNet50 with spatial ratio 0.75 and channel ratio 0.75\n",
      "Averaged latency:30.429768562316895 in 100 times of test\n",
      "-------------------end-------------------\n",
      "\n",
      "------------------start--------------------\n",
      "Model: ResNet50 with spatial ratio 0.5 and channel ratio 0.5\n",
      "Averaged latency:26.051719188690186 in 100 times of test\n",
      "-------------------end-------------------\n",
      "\n",
      "------------------start--------------------\n",
      "Model: ResNet50 with spatial ratio 0.25 and channel ratio 0.25\n",
      "Averaged latency:22.05719232559204 in 100 times of test\n",
      "-------------------end-------------------\n",
      "\n",
      "-------------------start-------------------\n",
      "Model: ResNet101 with spatial ratio 0.75 and channel ratio 0.75\n",
      "Averaged latency:43.47975015640259 in 100 times of test\n",
      "-------------------end-------------------\n",
      "\n",
      "-------------------start-------------------\n",
      "Model: ResNet101 with spatial ratio 0.5 and channel ratio 0.5\n",
      "Averaged latency:33.52283239364624 in 100 times of test\n",
      "-------------------end-------------------\n",
      "\n",
      "-------------------start-------------------\n",
      "Model: ResNet101 with spatial ratio 0.25 and channel ratio 0.25\n",
      "Averaged latency:26.02773427963257 in 100 times of test\n",
      "-------------------end-------------------\n",
      "\n"
     ]
    }
   ],
   "source": [
    "# Resolution Mask\n",
    "parallel_dpunit_bottleneck.resnet50(224, 224,  share_mask=True, s_ratio=0.75, c_ratio=0.75)\n",
    "parallel_dpunit_bottleneck.resnet50(224, 224,  share_mask=True, s_ratio=0.5, c_ratio=0.5)\n",
    "parallel_dpunit_bottleneck.resnet50(224, 224,  share_mask=True, s_ratio=0.25, c_ratio=0.25)\n",
    "parallel_dpunit_bottleneck.resnet101(224, 224, share_mask=True, s_ratio=0.75, c_ratio=0.75)\n",
    "parallel_dpunit_bottleneck.resnet101(224, 224, share_mask=True, s_ratio=0.5, c_ratio=0.5)\n",
    "parallel_dpunit_bottleneck.resnet101(224, 224, share_mask=True, s_ratio=0.25, c_ratio=0.25)"
   ]
  },
  {
   "cell_type": "markdown",
   "metadata": {},
   "source": [
    "## ResNet 18/ 34\n",
    "### Serial  PE Implementation Dense Baseline"
   ]
  },
  {
   "cell_type": "code",
   "execution_count": 2,
   "metadata": {},
   "outputs": [],
   "source": [
    "serial_dense_basicblock = resnet_basicblock_dense(\"./bitfiles/resnet_basicblock_dense_serial.bit\")"
   ]
  },
  {
   "cell_type": "code",
   "execution_count": 3,
   "metadata": {},
   "outputs": [
    {
     "name": "stdout",
     "output_type": "stream",
     "text": [
      "-------------------start-------------------\n",
      "Model: Dense ResNet18 \n",
      "Averaged latency:25.48732280731201 in 100 times of test\n",
      "-------------------end-------------------\n",
      "\n",
      "-------------------start-------------------\n",
      "Model: Dense ResNet34 \n",
      "Averaged latency:48.68100166320801 in 100 times of test\n",
      "-------------------end-------------------\n",
      "\n"
     ]
    }
   ],
   "source": [
    "serial_dense_basicblock.resnet18(224, 224)\n",
    "serial_dense_basicblock.resnet34(224, 224)"
   ]
  },
  {
   "cell_type": "markdown",
   "metadata": {},
   "source": [
    "### Paralle PE Implementation Dense Baseline"
   ]
  },
  {
   "cell_type": "code",
   "execution_count": 4,
   "metadata": {},
   "outputs": [],
   "source": [
    "parallel_dense_basicblock = resnet_basicblock_dense(\"./bitfiles/resnet_basicblock_dense_parallel.bit\")"
   ]
  },
  {
   "cell_type": "code",
   "execution_count": 5,
   "metadata": {
    "scrolled": true
   },
   "outputs": [
    {
     "name": "stdout",
     "output_type": "stream",
     "text": [
      "-------------------start-------------------\n",
      "Model: Dense ResNet18 \n",
      "Averaged latency:14.202232360839844 in 100 times of test\n",
      "-------------------end-------------------\n",
      "\n",
      "-------------------start-------------------\n",
      "Model: Dense ResNet34 \n",
      "Averaged latency:24.31675910949707 in 100 times of test\n",
      "-------------------end-------------------\n",
      "\n"
     ]
    }
   ],
   "source": [
    "parallel_dense_basicblock.resnet18(224, 224)\n",
    "parallel_dense_basicblock.resnet34(224, 224)"
   ]
  },
  {
   "cell_type": "markdown",
   "metadata": {},
   "source": [
    "### Serail PE Implemenation DPUnit"
   ]
  },
  {
   "cell_type": "code",
   "execution_count": 7,
   "metadata": {},
   "outputs": [],
   "source": [
    "serial_dpunit_basicblock = resnet_basicblock_sparse(\"./bitfiles/resnet_basicblock_sparse_serial.bit\")"
   ]
  },
  {
   "cell_type": "code",
   "execution_count": 8,
   "metadata": {
    "scrolled": false
   },
   "outputs": [
    {
     "name": "stdout",
     "output_type": "stream",
     "text": [
      "-------------------start-------------------\n",
      "Model: ResNet18 with spatial ratio 0.75 and channel ratio 0.75\n",
      "Averaged latency:22.05404043197632 in 100 times of test\n",
      "-------------------end-------------------\n",
      "\n",
      "-------------------start-------------------\n",
      "Model: ResNet18 with spatial ratio 0.5 and channel ratio 0.5\n",
      "Averaged latency:17.13575839996338 in 100 times of test\n",
      "-------------------end-------------------\n",
      "\n",
      "-------------------start-------------------\n",
      "Model: ResNet18 with spatial ratio 0.25 and channel ratio 0.25\n",
      "Averaged latency:13.481757640838623 in 100 times of test\n",
      "-------------------end-------------------\n",
      "\n",
      "-------------------start-------------------\n",
      "Model: ResNet34 with spatial ratio 0.75 and channel ratio 0.75\n",
      "Averaged latency:39.528870582580566 in 100 times of test\n",
      "-------------------end-------------------\n",
      "\n",
      "-------------------start-------------------\n",
      "Model: ResNet34 with spatial ratio 0.5 and channel ratio 0.5\n",
      "Averaged latency:27.98288345336914 in 100 times of test\n",
      "-------------------end-------------------\n",
      "\n",
      "-------------------start-------------------\n",
      "Model: ResNet34 with spatial ratio 0.25 and channel ratio 0.25\n",
      "Averaged latency:19.980356693267822 in 100 times of test\n",
      "-------------------end-------------------\n",
      "\n"
     ]
    }
   ],
   "source": [
    "serial_dpunit_basicblock.resnet18(224, 224, share_mask=False, s_ratio=0.75, c_ratio=0.75)\n",
    "serial_dpunit_basicblock.resnet18(224, 224, share_mask=False, s_ratio=0.5, c_ratio=0.5)\n",
    "serial_dpunit_basicblock.resnet18(224, 224, share_mask=False, s_ratio=0.25, c_ratio=0.25)\n",
    "serial_dpunit_basicblock.resnet34(224, 224, share_mask=False, s_ratio=0.75, c_ratio=0.75)\n",
    "serial_dpunit_basicblock.resnet34(224, 224, share_mask=False, s_ratio=0.5, c_ratio=0.5)\n",
    "serial_dpunit_basicblock.resnet34(224, 224, share_mask=False, s_ratio=0.25, c_ratio=0.25)"
   ]
  },
  {
   "cell_type": "markdown",
   "metadata": {},
   "source": [
    "### Parallel PE Implementation DPUnit"
   ]
  },
  {
   "cell_type": "code",
   "execution_count": 9,
   "metadata": {},
   "outputs": [],
   "source": [
    "parallel_dpunit_basicblock = resnet_basicblock_sparse(\"./bitfiles/resnet_basicblock_sparse_parallel.bit\")"
   ]
  },
  {
   "cell_type": "code",
   "execution_count": 10,
   "metadata": {},
   "outputs": [
    {
     "name": "stdout",
     "output_type": "stream",
     "text": [
      "-------------------start-------------------\n",
      "Model: ResNet18 with spatial ratio 0.75 and channel ratio 0.75\n",
      "Averaged latency:16.17377519607544 in 100 times of test\n",
      "-------------------end-------------------\n",
      "\n",
      "-------------------start-------------------\n",
      "Model: ResNet18 with spatial ratio 0.5 and channel ratio 0.5\n",
      "Averaged latency:14.648351669311523 in 100 times of test\n",
      "-------------------end-------------------\n",
      "\n",
      "-------------------start-------------------\n",
      "Model: ResNet18 with spatial ratio 0.25 and channel ratio 0.25\n",
      "Averaged latency:13.108627796173096 in 100 times of test\n",
      "-------------------end-------------------\n",
      "\n",
      "-------------------start-------------------\n",
      "Model: ResNet34 with spatial ratio 0.75 and channel ratio 0.75\n",
      "Averaged latency:26.94683074951172 in 100 times of test\n",
      "-------------------end-------------------\n",
      "\n",
      "-------------------start-------------------\n",
      "Model: ResNet34 with spatial ratio 0.5 and channel ratio 0.5\n",
      "Averaged latency:23.206698894500732 in 100 times of test\n",
      "-------------------end-------------------\n",
      "\n",
      "-------------------start-------------------\n",
      "Model: ResNet34 with spatial ratio 0.25 and channel ratio 0.25\n",
      "Averaged latency:19.731290340423584 in 100 times of test\n",
      "-------------------end-------------------\n",
      "\n"
     ]
    }
   ],
   "source": [
    "parallel_dpunit_basicblock.resnet18(224, 224, share_mask=False, s_ratio=0.75, c_ratio=0.75)\n",
    "parallel_dpunit_basicblock.resnet18(224, 224, share_mask=False, s_ratio=0.5, c_ratio=0.5)\n",
    "parallel_dpunit_basicblock.resnet18(224, 224, share_mask=False, s_ratio=0.25, c_ratio=0.25)\n",
    "parallel_dpunit_basicblock.resnet34(224, 224, share_mask=False, s_ratio=0.75, c_ratio=0.75)\n",
    "parallel_dpunit_basicblock.resnet34(224, 224, share_mask=False, s_ratio=0.5, c_ratio=0.5)\n",
    "parallel_dpunit_basicblock.resnet34(224, 224, share_mask=False, s_ratio=0.25, c_ratio=0.25)"
   ]
  }
 ],
 "metadata": {
  "kernelspec": {
   "display_name": "Python 3",
   "language": "python",
   "name": "python3"
  },
  "language_info": {
   "codemirror_mode": {
    "name": "ipython",
    "version": 3
   },
   "file_extension": ".py",
   "mimetype": "text/x-python",
   "name": "python",
   "nbconvert_exporter": "python",
   "pygments_lexer": "ipython3",
   "version": "3.6.5"
  }
 },
 "nbformat": 4,
 "nbformat_minor": 2
}
