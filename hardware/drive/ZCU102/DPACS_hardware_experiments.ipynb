{
 "cells": [
  {
   "cell_type": "markdown",
   "metadata": {},
   "source": [
    "# Testing latency of DPUnits\n",
    "\n",
    "This jupyter notebook contains latency test code and output of DPCAS architecture. Run throughout all the cells to reproduce the results.\n",
    "\n",
    "Note: If there is OS ERROR on memory allocation, please try restart the kernel and continue from where it stucks. If this can not solve the problem, reboot the board from command line.\n"
   ]
  },
  {
   "cell_type": "code",
   "execution_count": 1,
   "metadata": {},
   "outputs": [
    {
     "data": {
      "application/javascript": "\ntry {\nrequire(['notebook/js/codecell'], function(codecell) {\n  codecell.CodeCell.options_default.highlight_modes[\n      'magic_text/x-csrc'] = {'reg':[/^%%microblaze/]};\n  Jupyter.notebook.events.one('kernel_ready.Kernel', function(){\n      Jupyter.notebook.get_cells().map(function(cell){\n          if (cell.cell_type == 'code'){ cell.auto_highlight(); } }) ;\n  });\n});\n} catch (e) {};\n"
     },
     "metadata": {},
     "output_type": "display_data"
    },
    {
     "data": {
      "application/javascript": "\ntry {\nrequire(['notebook/js/codecell'], function(codecell) {\n  codecell.CodeCell.options_default.highlight_modes[\n      'magic_text/x-csrc'] = {'reg':[/^%%pybind11/]};\n  Jupyter.notebook.events.one('kernel_ready.Kernel', function(){\n      Jupyter.notebook.get_cells().map(function(cell){\n          if (cell.cell_type == 'code'){ cell.auto_highlight(); } }) ;\n  });\n});\n} catch (e) {};\n"
     },
     "metadata": {},
     "output_type": "display_data"
    }
   ],
   "source": [
    "import pynq\n",
    "from pynq import Overlay \n",
    "from pynq import allocate\n",
    "from pynq import Xlnk\n",
    "import numpy as np\n",
    "import time\n",
    "import matplotlib.pyplot as plt\n",
    "from matplotlib.patches import Rectangle\n",
    "import math\n",
    "import gc\n",
    "import json\n",
    "import os\n",
    "import pickle\n",
    "\n",
    "from resnet_basicblock_dense import *\n",
    "from resnet_bottleneck_dense import *\n",
    "from resnet_basicblock_sparse import *\n",
    "from resnet_bottleneck_sparse import *"
   ]
  },
  {
   "cell_type": "markdown",
   "metadata": {},
   "source": [
    "## ResNet 50 / 101 \n",
    "\n",
    "### Serial  PE Implementation Dense Baseline"
   ]
  },
  {
   "cell_type": "code",
   "execution_count": 2,
   "metadata": {},
   "outputs": [],
   "source": [
    "serial_dense_bottleneck = resnet_bottleneck_dense(\"./bitfiles/resnet_bottleneck_dense_serial.bit\")"
   ]
  },
  {
   "cell_type": "code",
   "execution_count": 3,
   "metadata": {
    "scrolled": false
   },
   "outputs": [
    {
     "name": "stdout",
     "output_type": "stream",
     "text": [
      "-------------------start-------------------\n",
      "Model: Dense ResNet50 \n",
      "Averaged latency:58.81169557571411 in 100 times of test\n",
      "-------------------end-------------------\n",
      "\n",
      "-------------------start-------------------\n",
      "Model: Dense ResNet101 \n",
      "Averaged latency:95.32502174377441 in 100 times of test\n",
      "-------------------end-------------------\n",
      "\n"
     ]
    }
   ],
   "source": [
    "serial_dense_bottleneck.resnet50(224, 224)\n",
    "serial_dense_bottleneck.resnet101(224, 224)"
   ]
  },
  {
   "cell_type": "markdown",
   "metadata": {},
   "source": [
    "### Parallel PE Implementation Dense Baseline"
   ]
  },
  {
   "cell_type": "code",
   "execution_count": 5,
   "metadata": {},
   "outputs": [],
   "source": [
    "parallel_dense_bottleneck = resnet_bottleneck_dense(\"./bitfiles/resnet_bottleneck_dense_parallel.bit\")"
   ]
  },
  {
   "cell_type": "code",
   "execution_count": 6,
   "metadata": {
    "scrolled": true
   },
   "outputs": [
    {
     "name": "stdout",
     "output_type": "stream",
     "text": [
      "-------------------start-------------------\n",
      "Model: Dense ResNet50 \n",
      "Averaged latency:32.839202880859375 in 100 times of test\n",
      "-------------------end-------------------\n",
      "\n",
      "-------------------start-------------------\n",
      "Model: Dense ResNet101 \n",
      "Averaged latency:49.47508096694946 in 100 times of test\n",
      "-------------------end-------------------\n",
      "\n"
     ]
    }
   ],
   "source": [
    "parallel_dense_bottleneck.resnet50(224, 224)\n",
    "parallel_dense_bottleneck.resnet101(224, 224)"
   ]
  },
  {
   "cell_type": "markdown",
   "metadata": {},
   "source": [
    "### Serial PE Implementation DPUnit"
   ]
  },
  {
   "cell_type": "code",
   "execution_count": 3,
   "metadata": {},
   "outputs": [],
   "source": [
    "serial_dpunit_bottleneck = resnet_bottleneck_sparse(\"./bitfiles/resnet_bottleneck_sparse_serial.bit\")"
   ]
  },
  {
   "cell_type": "code",
   "execution_count": 4,
   "metadata": {
    "scrolled": false
   },
   "outputs": [
    {
     "name": "stdout",
     "output_type": "stream",
     "text": [
      "------------------start--------------------\n",
      "Model: ResNet50 with spatial ratio 0.75 and channel ratio 0.75\n",
      "Averaged latency:44.32889699935913 in 100 times of test\n",
      "-------------------end-------------------\n",
      "\n",
      "------------------start--------------------\n",
      "Model: ResNet50 with spatial ratio 0.5 and channel ratio 0.75\n",
      "Averaged latency:33.67692947387695 in 100 times of test\n",
      "-------------------end-------------------\n",
      "\n",
      "------------------start--------------------\n",
      "Model: ResNet50 with spatial ratio 0.25 and channel ratio 0.75\n",
      "Averaged latency:26.354835033416748 in 100 times of test\n",
      "-------------------end-------------------\n",
      "\n",
      "------------------start--------------------\n",
      "Model: ResNet50 with spatial ratio 0.75 and channel ratio 0.5\n",
      "Averaged latency:41.875624656677246 in 100 times of test\n",
      "-------------------end-------------------\n",
      "\n",
      "------------------start--------------------\n",
      "Model: ResNet50 with spatial ratio 0.5 and channel ratio 0.5\n",
      "Averaged latency:31.972250938415527 in 100 times of test\n",
      "-------------------end-------------------\n",
      "\n",
      "------------------start--------------------\n",
      "Model: ResNet50 with spatial ratio 0.25 and channel ratio 0.5\n",
      "Averaged latency:25.189318656921387 in 100 times of test\n",
      "-------------------end-------------------\n",
      "\n",
      "------------------start--------------------\n",
      "Model: ResNet50 with spatial ratio 0.75 and channel ratio 0.25\n",
      "Averaged latency:40.26455640792847 in 100 times of test\n",
      "-------------------end-------------------\n",
      "\n",
      "------------------start--------------------\n",
      "Model: ResNet50 with spatial ratio 0.5 and channel ratio 0.25\n",
      "Averaged latency:30.51511287689209 in 100 times of test\n",
      "-------------------end-------------------\n",
      "\n",
      "------------------start--------------------\n",
      "Model: ResNet50 with spatial ratio 0.25 and channel ratio 0.25\n",
      "Averaged latency:24.358832836151123 in 100 times of test\n",
      "-------------------end-------------------\n",
      "\n"
     ]
    }
   ],
   "source": [
    "## Block Mask\n",
    "serial_dpunit_bottleneck.resnet50(224, 224, share_mask=False, s_ratio=0.75, c_ratio=0.75)\n",
    "serial_dpunit_bottleneck.resnet50(224, 224, share_mask=False, s_ratio=0.5, c_ratio=0.75)\n",
    "serial_dpunit_bottleneck.resnet50(224, 224, share_mask=False, s_ratio=0.25, c_ratio=0.75)\n",
    "serial_dpunit_bottleneck.resnet50(224, 224, share_mask=False, s_ratio=0.75, c_ratio=0.5)\n",
    "serial_dpunit_bottleneck.resnet50(224, 224, share_mask=False, s_ratio=0.5, c_ratio=0.5)\n",
    "serial_dpunit_bottleneck.resnet50(224, 224, share_mask=False, s_ratio=0.25, c_ratio=0.5)\n",
    "serial_dpunit_bottleneck.resnet50(224, 224, share_mask=False, s_ratio=0.75, c_ratio=0.25)\n",
    "serial_dpunit_bottleneck.resnet50(224, 224, share_mask=False, s_ratio=0.5, c_ratio=0.25)\n",
    "serial_dpunit_bottleneck.resnet50(224, 224, share_mask=False, s_ratio=0.25, c_ratio=0.25)"
   ]
  },
  {
   "cell_type": "code",
   "execution_count": 5,
   "metadata": {},
   "outputs": [
    {
     "name": "stdout",
     "output_type": "stream",
     "text": [
      "-------------------start-------------------\n",
      "Model: ResNet101 with spatial ratio 0.75 and channel ratio 0.75\n",
      "Averaged latency:62.112300395965576 in 100 times of test\n",
      "-------------------end-------------------\n",
      "\n",
      "-------------------start-------------------\n",
      "Model: ResNet101 with spatial ratio 0.5 and channel ratio 0.75\n",
      "Averaged latency:45.7663369178772 in 100 times of test\n",
      "-------------------end-------------------\n",
      "\n",
      "-------------------start-------------------\n",
      "Model: ResNet101 with spatial ratio 0.25 and channel ratio 0.75\n",
      "Averaged latency:35.98313331604004 in 100 times of test\n",
      "-------------------end-------------------\n",
      "\n",
      "-------------------start-------------------\n",
      "Model: ResNet101 with spatial ratio 0.75 and channel ratio 0.5\n",
      "Averaged latency:53.83464574813843 in 100 times of test\n",
      "-------------------end-------------------\n",
      "\n",
      "-------------------start-------------------\n",
      "Model: ResNet101 with spatial ratio 0.5 and channel ratio 0.5\n",
      "Averaged latency:40.71244716644287 in 100 times of test\n",
      "-------------------end-------------------\n",
      "\n",
      "-------------------start-------------------\n",
      "Model: ResNet101 with spatial ratio 0.25 and channel ratio 0.5\n",
      "Averaged latency:32.18142747879028 in 100 times of test\n",
      "-------------------end-------------------\n",
      "\n",
      "-------------------start-------------------\n",
      "Model: ResNet101 with spatial ratio 0.75 and channel ratio 0.25\n",
      "Averaged latency:46.740596294403076 in 100 times of test\n",
      "-------------------end-------------------\n",
      "\n",
      "-------------------start-------------------\n",
      "Model: ResNet101 with spatial ratio 0.5 and channel ratio 0.25\n",
      "Averaged latency:36.098570823669434 in 100 times of test\n",
      "-------------------end-------------------\n",
      "\n",
      "-------------------start-------------------\n",
      "Model: ResNet101 with spatial ratio 0.25 and channel ratio 0.25\n",
      "Averaged latency:29.04515266418457 in 100 times of test\n",
      "-------------------end-------------------\n",
      "\n"
     ]
    }
   ],
   "source": [
    "serial_dpunit_bottleneck.resnet101(224, 224, share_mask=False, s_ratio=0.75, c_ratio=0.75)\n",
    "serial_dpunit_bottleneck.resnet101(224, 224, share_mask=False, s_ratio=0.5, c_ratio=0.75)\n",
    "serial_dpunit_bottleneck.resnet101(224, 224, share_mask=False, s_ratio=0.25, c_ratio=0.75)\n",
    "serial_dpunit_bottleneck.resnet101(224, 224, share_mask=False, s_ratio=0.75, c_ratio=0.5)\n",
    "serial_dpunit_bottleneck.resnet101(224, 224, share_mask=False, s_ratio=0.5, c_ratio=0.5)\n",
    "serial_dpunit_bottleneck.resnet101(224, 224, share_mask=False, s_ratio=0.25, c_ratio=0.5)\n",
    "serial_dpunit_bottleneck.resnet101(224, 224, share_mask=False, s_ratio=0.75, c_ratio=0.25)\n",
    "serial_dpunit_bottleneck.resnet101(224, 224, share_mask=False, s_ratio=0.5, c_ratio=0.25)\n",
    "serial_dpunit_bottleneck.resnet101(224, 224, share_mask=False, s_ratio=0.25, c_ratio=0.25)"
   ]
  },
  {
   "cell_type": "code",
   "execution_count": 12,
   "metadata": {
    "scrolled": false
   },
   "outputs": [
    {
     "name": "stdout",
     "output_type": "stream",
     "text": [
      "------------------start--------------------\n",
      "Model: ResNet50 with spatial ratio 0.75 and channel ratio 0.75\n",
      "Averaged latency:45.07866382598877 in 100 times of test\n",
      "-------------------end-------------------\n",
      "\n",
      "------------------start--------------------\n",
      "Model: ResNet50 with spatial ratio 0.5 and channel ratio 0.5\n",
      "Averaged latency:32.16017246246338 in 100 times of test\n",
      "-------------------end-------------------\n",
      "\n",
      "------------------start--------------------\n",
      "Model: ResNet50 with spatial ratio 0.25 and channel ratio 0.25\n",
      "Averaged latency:23.27601194381714 in 100 times of test\n",
      "-------------------end-------------------\n",
      "\n",
      "-------------------start-------------------\n",
      "Model: ResNet101 with spatial ratio 0.75 and channel ratio 0.75\n",
      "Averaged latency:63.29248666763306 in 100 times of test\n",
      "-------------------end-------------------\n",
      "\n",
      "-------------------start-------------------\n",
      "Model: ResNet101 with spatial ratio 0.5 and channel ratio 0.5\n",
      "Averaged latency:40.27627468109131 in 100 times of test\n",
      "-------------------end-------------------\n",
      "\n",
      "-------------------start-------------------\n",
      "Model: ResNet101 with spatial ratio 0.25 and channel ratio 0.25\n",
      "Averaged latency:27.412915229797363 in 100 times of test\n",
      "-------------------end-------------------\n",
      "\n"
     ]
    }
   ],
   "source": [
    "## Resolution Mask\n",
    "serial_dpunit_bottleneck.resnet50(224, 224, share_mask=True, s_ratio=0.75, c_ratio=0.75)\n",
    "serial_dpunit_bottleneck.resnet50(224, 224, share_mask=True, s_ratio=0.5, c_ratio=0.5)\n",
    "serial_dpunit_bottleneck.resnet50(224, 224, share_mask=True, s_ratio=0.25, c_ratio=0.25)\n",
    "serial_dpunit_bottleneck.resnet101(224, 224, share_mask=True, s_ratio=0.75, c_ratio=0.75)\n",
    "serial_dpunit_bottleneck.resnet101(224, 224, share_mask=True, s_ratio=0.5, c_ratio=0.5)\n",
    "serial_dpunit_bottleneck.resnet101(224, 224, share_mask=True, s_ratio=0.25, c_ratio=0.25)"
   ]
  },
  {
   "cell_type": "markdown",
   "metadata": {},
   "source": [
    "### Parallel PE Implementation DPUnit"
   ]
  },
  {
   "cell_type": "code",
   "execution_count": 6,
   "metadata": {},
   "outputs": [],
   "source": [
    "parallel_dpunit_bottleneck = resnet_bottleneck_sparse(\"./bitfiles/resnet_bottleneck_sparse_parallel.bit\")"
   ]
  },
  {
   "cell_type": "code",
   "execution_count": 7,
   "metadata": {},
   "outputs": [
    {
     "name": "stdout",
     "output_type": "stream",
     "text": [
      "------------------start--------------------\n",
      "Model: ResNet50 with spatial ratio 0.75 and channel ratio 0.75\n",
      "Averaged latency:30.9137225151062 in 100 times of test\n",
      "-------------------end-------------------\n",
      "\n",
      "------------------start--------------------\n",
      "Model: ResNet50 with spatial ratio 0.5 and channel ratio 0.5\n",
      "Averaged latency:27.401602268218994 in 100 times of test\n",
      "-------------------end-------------------\n",
      "\n",
      "------------------start--------------------\n",
      "Model: ResNet50 with spatial ratio 0.25 and channel ratio 0.25\n",
      "Averaged latency:24.797992706298828 in 100 times of test\n",
      "-------------------end-------------------\n",
      "\n",
      "------------------start--------------------\n",
      "Model: ResNet50 with spatial ratio 0.75 and channel ratio 0.5\n",
      "Averaged latency:29.628584384918213 in 100 times of test\n",
      "-------------------end-------------------\n",
      "\n",
      "------------------start--------------------\n",
      "Model: ResNet50 with spatial ratio 0.5 and channel ratio 0.5\n",
      "Averaged latency:27.29752779006958 in 100 times of test\n",
      "-------------------end-------------------\n",
      "\n",
      "------------------start--------------------\n",
      "Model: ResNet50 with spatial ratio 0.25 and channel ratio 0.5\n",
      "Averaged latency:25.239717960357666 in 100 times of test\n",
      "-------------------end-------------------\n",
      "\n",
      "------------------start--------------------\n",
      "Model: ResNet50 with spatial ratio 0.75 and channel ratio 0.25\n",
      "Averaged latency:28.92923593521118 in 100 times of test\n",
      "-------------------end-------------------\n",
      "\n",
      "------------------start--------------------\n",
      "Model: ResNet50 with spatial ratio 0.5 and channel ratio 0.25\n",
      "Averaged latency:26.444814205169678 in 100 times of test\n",
      "-------------------end-------------------\n",
      "\n",
      "------------------start--------------------\n",
      "Model: ResNet50 with spatial ratio 0.25 and channel ratio 0.25\n",
      "Averaged latency:24.675357341766357 in 100 times of test\n",
      "-------------------end-------------------\n",
      "\n"
     ]
    }
   ],
   "source": [
    "## Block Mask\n",
    "parallel_dpunit_bottleneck.resnet50(224, 224, share_mask=False, s_ratio=0.75, c_ratio=0.75)\n",
    "parallel_dpunit_bottleneck.resnet50(224, 224, share_mask=False, s_ratio=0.5, c_ratio=0.5)\n",
    "parallel_dpunit_bottleneck.resnet50(224, 224, share_mask=False, s_ratio=0.25, c_ratio=0.25)\n",
    "parallel_dpunit_bottleneck.resnet50(224, 224, share_mask=False, s_ratio=0.75, c_ratio=0.5)\n",
    "parallel_dpunit_bottleneck.resnet50(224, 224, share_mask=False, s_ratio=0.5, c_ratio=0.5)\n",
    "parallel_dpunit_bottleneck.resnet50(224, 224, share_mask=False, s_ratio=0.25, c_ratio=0.5)\n",
    "parallel_dpunit_bottleneck.resnet50(224, 224, share_mask=False, s_ratio=0.75, c_ratio=0.25)\n",
    "parallel_dpunit_bottleneck.resnet50(224, 224, share_mask=False, s_ratio=0.5, c_ratio=0.25)\n",
    "parallel_dpunit_bottleneck.resnet50(224, 224, share_mask=False, s_ratio=0.25, c_ratio=0.25)"
   ]
  },
  {
   "cell_type": "code",
   "execution_count": 8,
   "metadata": {},
   "outputs": [
    {
     "name": "stdout",
     "output_type": "stream",
     "text": [
      "-------------------start-------------------\n",
      "Model: ResNet101 with spatial ratio 0.75 and channel ratio 0.75\n",
      "Averaged latency:43.41870307922363 in 100 times of test\n",
      "-------------------end-------------------\n",
      "\n",
      "-------------------start-------------------\n",
      "Model: ResNet101 with spatial ratio 0.5 and channel ratio 0.75\n",
      "Averaged latency:39.45305585861206 in 100 times of test\n",
      "-------------------end-------------------\n",
      "\n",
      "-------------------start-------------------\n",
      "Model: ResNet101 with spatial ratio 0.25 and channel ratio 0.75\n",
      "Averaged latency:35.93353509902954 in 100 times of test\n",
      "-------------------end-------------------\n",
      "\n",
      "-------------------start-------------------\n",
      "Model: ResNet101 with spatial ratio 0.75 and channel ratio 0.5\n",
      "Averaged latency:38.509111404418945 in 100 times of test\n",
      "-------------------end-------------------\n",
      "\n",
      "-------------------start-------------------\n",
      "Model: ResNet101 with spatial ratio 0.5 and channel ratio 0.5\n",
      "Averaged latency:35.27946710586548 in 100 times of test\n",
      "-------------------end-------------------\n",
      "\n",
      "-------------------start-------------------\n",
      "Model: ResNet101 with spatial ratio 0.25 and channel ratio 0.5\n",
      "Averaged latency:32.0617938041687 in 100 times of test\n",
      "-------------------end-------------------\n",
      "\n",
      "-------------------start-------------------\n",
      "Model: ResNet101 with spatial ratio 0.75 and channel ratio 0.25\n",
      "Averaged latency:35.12878894805908 in 100 times of test\n",
      "-------------------end-------------------\n",
      "\n",
      "-------------------start-------------------\n",
      "Model: ResNet101 with spatial ratio 0.5 and channel ratio 0.25\n",
      "Averaged latency:32.09906816482544 in 100 times of test\n",
      "-------------------end-------------------\n",
      "\n",
      "-------------------start-------------------\n",
      "Model: ResNet101 with spatial ratio 0.25 and channel ratio 0.25\n",
      "Averaged latency:29.48174238204956 in 100 times of test\n",
      "-------------------end-------------------\n",
      "\n"
     ]
    }
   ],
   "source": [
    "parallel_dpunit_bottleneck.resnet101(224, 224, share_mask=False, s_ratio=0.75, c_ratio=0.75)\n",
    "parallel_dpunit_bottleneck.resnet101(224, 224, share_mask=False, s_ratio=0.5, c_ratio=0.75)\n",
    "parallel_dpunit_bottleneck.resnet101(224, 224, share_mask=False, s_ratio=0.25, c_ratio=0.75)\n",
    "parallel_dpunit_bottleneck.resnet101(224, 224, share_mask=False, s_ratio=0.75, c_ratio=0.5)\n",
    "parallel_dpunit_bottleneck.resnet101(224, 224, share_mask=False, s_ratio=0.5, c_ratio=0.5)\n",
    "parallel_dpunit_bottleneck.resnet101(224, 224, share_mask=False, s_ratio=0.25, c_ratio=0.5)\n",
    "parallel_dpunit_bottleneck.resnet101(224, 224, share_mask=False, s_ratio=0.75, c_ratio=0.25)\n",
    "parallel_dpunit_bottleneck.resnet101(224, 224, share_mask=False, s_ratio=0.5, c_ratio=0.25)\n",
    "parallel_dpunit_bottleneck.resnet101(224, 224, share_mask=False, s_ratio=0.25, c_ratio=0.25)"
   ]
  },
  {
   "cell_type": "code",
   "execution_count": 16,
   "metadata": {
    "scrolled": false
   },
   "outputs": [
    {
     "name": "stdout",
     "output_type": "stream",
     "text": [
      "------------------start--------------------\n",
      "Model: ResNet50 with spatial ratio 0.75 and channel ratio 0.75\n",
      "Averaged latency:30.429768562316895 in 100 times of test\n",
      "-------------------end-------------------\n",
      "\n",
      "------------------start--------------------\n",
      "Model: ResNet50 with spatial ratio 0.5 and channel ratio 0.5\n",
      "Averaged latency:26.051719188690186 in 100 times of test\n",
      "-------------------end-------------------\n",
      "\n",
      "------------------start--------------------\n",
      "Model: ResNet50 with spatial ratio 0.25 and channel ratio 0.25\n",
      "Averaged latency:22.05719232559204 in 100 times of test\n",
      "-------------------end-------------------\n",
      "\n",
      "-------------------start-------------------\n",
      "Model: ResNet101 with spatial ratio 0.75 and channel ratio 0.75\n",
      "Averaged latency:43.47975015640259 in 100 times of test\n",
      "-------------------end-------------------\n",
      "\n",
      "-------------------start-------------------\n",
      "Model: ResNet101 with spatial ratio 0.5 and channel ratio 0.5\n",
      "Averaged latency:33.52283239364624 in 100 times of test\n",
      "-------------------end-------------------\n",
      "\n",
      "-------------------start-------------------\n",
      "Model: ResNet101 with spatial ratio 0.25 and channel ratio 0.25\n",
      "Averaged latency:26.02773427963257 in 100 times of test\n",
      "-------------------end-------------------\n",
      "\n"
     ]
    }
   ],
   "source": [
    "# Resolution Mask\n",
    "parallel_dpunit_bottleneck.resnet50(224, 224,  share_mask=True, s_ratio=0.75, c_ratio=0.75)\n",
    "parallel_dpunit_bottleneck.resnet50(224, 224,  share_mask=True, s_ratio=0.5, c_ratio=0.5)\n",
    "parallel_dpunit_bottleneck.resnet50(224, 224,  share_mask=True, s_ratio=0.25, c_ratio=0.25)\n",
    "parallel_dpunit_bottleneck.resnet101(224, 224, share_mask=True, s_ratio=0.75, c_ratio=0.75)\n",
    "parallel_dpunit_bottleneck.resnet101(224, 224, share_mask=True, s_ratio=0.5, c_ratio=0.5)\n",
    "parallel_dpunit_bottleneck.resnet101(224, 224, share_mask=True, s_ratio=0.25, c_ratio=0.25)"
   ]
  },
  {
   "cell_type": "markdown",
   "metadata": {},
   "source": [
    "## ResNet 18/ 34\n",
    "### Serial  PE Implementation Dense Baseline"
   ]
  },
  {
   "cell_type": "code",
   "execution_count": 2,
   "metadata": {},
   "outputs": [],
   "source": [
    "serial_dense_basicblock = resnet_basicblock_dense(\"./bitfiles/resnet_basicblock_dense_serial.bit\")"
   ]
  },
  {
   "cell_type": "code",
   "execution_count": 3,
   "metadata": {},
   "outputs": [
    {
     "name": "stdout",
     "output_type": "stream",
     "text": [
      "-------------------start-------------------\n",
      "Model: Dense ResNet18 \n",
      "Averaged latency:25.48732280731201 in 100 times of test\n",
      "-------------------end-------------------\n",
      "\n",
      "-------------------start-------------------\n",
      "Model: Dense ResNet34 \n",
      "Averaged latency:48.68100166320801 in 100 times of test\n",
      "-------------------end-------------------\n",
      "\n"
     ]
    }
   ],
   "source": [
    "serial_dense_basicblock.resnet18(224, 224)\n",
    "serial_dense_basicblock.resnet34(224, 224)"
   ]
  },
  {
   "cell_type": "markdown",
   "metadata": {},
   "source": [
    "### Paralle PE Implementation Dense Baseline"
   ]
  },
  {
   "cell_type": "code",
   "execution_count": 9,
   "metadata": {},
   "outputs": [],
   "source": [
    "parallel_dense_basicblock = resnet_basicblock_dense(\"./bitfiles/resnet_basicblock_dense_parallel.bit\")"
   ]
  },
  {
   "cell_type": "code",
   "execution_count": 10,
   "metadata": {
    "scrolled": true
   },
   "outputs": [
    {
     "name": "stdout",
     "output_type": "stream",
     "text": [
      "-------------------start-------------------\n",
      "Model: Dense ResNet18 \n",
      "Averaged latency:14.35039758682251 in 100 times of test\n",
      "-------------------end-------------------\n",
      "\n",
      "-------------------start-------------------\n",
      "Model: Dense ResNet34 \n",
      "Averaged latency:24.646923542022705 in 100 times of test\n",
      "-------------------end-------------------\n",
      "\n"
     ]
    }
   ],
   "source": [
    "parallel_dense_basicblock.resnet18(224, 224)\n",
    "parallel_dense_basicblock.resnet34(224, 224)"
   ]
  },
  {
   "cell_type": "markdown",
   "metadata": {},
   "source": [
    "### Serail PE Implemenation DPUnit"
   ]
  },
  {
   "cell_type": "code",
   "execution_count": 2,
   "metadata": {},
   "outputs": [],
   "source": [
    "serial_dpunit_basicblock = resnet_basicblock_sparse(\"./bitfiles/resnet_basicblock_sparse_serial.bit\")"
   ]
  },
  {
   "cell_type": "code",
   "execution_count": 3,
   "metadata": {},
   "outputs": [
    {
     "name": "stdout",
     "output_type": "stream",
     "text": [
      "-------------------start-------------------\n",
      "Model: ResNet18 with spatial ratio 0.75 and channel ratio 0.75\n",
      "Averaged latency:22.195053100585938 in 100 times of test\n",
      "-------------------end-------------------\n",
      "\n",
      "-------------------start-------------------\n",
      "Model: ResNet18 with spatial ratio 0.5 and channel ratio 0.75\n",
      "Averaged latency:17.626652717590332 in 100 times of test\n",
      "-------------------end-------------------\n",
      "\n",
      "-------------------start-------------------\n",
      "Model: ResNet18 with spatial ratio 0.25 and channel ratio 0.75\n",
      "Averaged latency:14.51352596282959 in 100 times of test\n",
      "-------------------end-------------------\n",
      "\n",
      "-------------------start-------------------\n",
      "Model: ResNet18 with spatial ratio 0.75 and channel ratio 0.5\n",
      "Averaged latency:20.9875750541687 in 100 times of test\n",
      "-------------------end-------------------\n",
      "\n",
      "-------------------start-------------------\n",
      "Model: ResNet18 with spatial ratio 0.5 and channel ratio 0.5\n",
      "Averaged latency:17.03176498413086 in 100 times of test\n",
      "-------------------end-------------------\n",
      "\n",
      "-------------------start-------------------\n",
      "Model: ResNet18 with spatial ratio 0.25 and channel ratio 0.5\n",
      "Averaged latency:14.07111406326294 in 100 times of test\n",
      "-------------------end-------------------\n",
      "\n",
      "-------------------start-------------------\n",
      "Model: ResNet18 with spatial ratio 0.75 and channel ratio 0.25\n",
      "Averaged latency:20.694174766540527 in 100 times of test\n",
      "-------------------end-------------------\n",
      "\n",
      "-------------------start-------------------\n",
      "Model: ResNet18 with spatial ratio 0.5 and channel ratio 0.25\n",
      "Averaged latency:16.40699863433838 in 100 times of test\n",
      "-------------------end-------------------\n",
      "\n",
      "-------------------start-------------------\n",
      "Model: ResNet18 with spatial ratio 0.25 and channel ratio 0.25\n",
      "Averaged latency:13.350932598114014 in 100 times of test\n",
      "-------------------end-------------------\n",
      "\n"
     ]
    }
   ],
   "source": [
    "serial_dpunit_basicblock.resnet18(224, 224, share_mask=False, s_ratio=0.75, c_ratio=0.75)\n",
    "serial_dpunit_basicblock.resnet18(224, 224, share_mask=False, s_ratio=0.5, c_ratio=0.75)\n",
    "serial_dpunit_basicblock.resnet18(224, 224, share_mask=False, s_ratio=0.25, c_ratio=0.75)\n",
    "serial_dpunit_basicblock.resnet18(224, 224, share_mask=False, s_ratio=0.75, c_ratio=0.5)\n",
    "serial_dpunit_basicblock.resnet18(224, 224, share_mask=False, s_ratio=0.5, c_ratio=0.5)\n",
    "serial_dpunit_basicblock.resnet18(224, 224, share_mask=False, s_ratio=0.25, c_ratio=0.5)\n",
    "serial_dpunit_basicblock.resnet18(224, 224, share_mask=False, s_ratio=0.75, c_ratio=0.25)\n",
    "serial_dpunit_basicblock.resnet18(224, 224, share_mask=False, s_ratio=0.5, c_ratio=0.25)\n",
    "serial_dpunit_basicblock.resnet18(224, 224, share_mask=False, s_ratio=0.25, c_ratio=0.25)"
   ]
  },
  {
   "cell_type": "code",
   "execution_count": 4,
   "metadata": {
    "scrolled": false
   },
   "outputs": [
    {
     "name": "stdout",
     "output_type": "stream",
     "text": [
      "-------------------start-------------------\n",
      "Model: ResNet34 with spatial ratio 0.75 and channel ratio 0.75\n",
      "Averaged latency:39.328906536102295 in 100 times of test\n",
      "-------------------end-------------------\n",
      "\n",
      "-------------------start-------------------\n",
      "Model: ResNet34 with spatial ratio 0.5 and channel ratio 0.75\n",
      "Averaged latency:29.783377647399902 in 100 times of test\n",
      "-------------------end-------------------\n",
      "\n",
      "-------------------start-------------------\n",
      "Model: ResNet34 with spatial ratio 0.25 and channel ratio 0.75\n",
      "Averaged latency:22.528035640716553 in 100 times of test\n",
      "-------------------end-------------------\n",
      "\n",
      "-------------------start-------------------\n",
      "Model: ResNet34 with spatial ratio 0.75 and channel ratio 0.5\n",
      "Averaged latency:37.38175630569458 in 100 times of test\n",
      "-------------------end-------------------\n",
      "\n",
      "-------------------start-------------------\n",
      "Model: ResNet34 with spatial ratio 0.5 and channel ratio 0.5\n",
      "Averaged latency:27.689032554626465 in 100 times of test\n",
      "-------------------end-------------------\n",
      "\n",
      "-------------------start-------------------\n",
      "Model: ResNet34 with spatial ratio 0.25 and channel ratio 0.5\n",
      "Averaged latency:21.077165603637695 in 100 times of test\n",
      "-------------------end-------------------\n",
      "\n",
      "-------------------start-------------------\n",
      "Model: ResNet34 with spatial ratio 0.75 and channel ratio 0.25\n",
      "Averaged latency:35.73593854904175 in 100 times of test\n",
      "-------------------end-------------------\n",
      "\n",
      "-------------------start-------------------\n",
      "Model: ResNet34 with spatial ratio 0.5 and channel ratio 0.25\n",
      "Averaged latency:26.26626968383789 in 100 times of test\n",
      "-------------------end-------------------\n",
      "\n",
      "-------------------start-------------------\n",
      "Model: ResNet34 with spatial ratio 0.25 and channel ratio 0.25\n",
      "Averaged latency:20.22186279296875 in 100 times of test\n",
      "-------------------end-------------------\n",
      "\n"
     ]
    }
   ],
   "source": [
    "serial_dpunit_basicblock.resnet34(224, 224, share_mask=False, s_ratio=0.75, c_ratio=0.75)\n",
    "serial_dpunit_basicblock.resnet34(224, 224, share_mask=False, s_ratio=0.5, c_ratio=0.75)\n",
    "serial_dpunit_basicblock.resnet34(224, 224, share_mask=False, s_ratio=0.25, c_ratio=0.75)\n",
    "serial_dpunit_basicblock.resnet34(224, 224, share_mask=False, s_ratio=0.75, c_ratio=0.5)\n",
    "serial_dpunit_basicblock.resnet34(224, 224, share_mask=False, s_ratio=0.5, c_ratio=0.5)\n",
    "serial_dpunit_basicblock.resnet34(224, 224, share_mask=False, s_ratio=0.25, c_ratio=0.5)\n",
    "serial_dpunit_basicblock.resnet34(224, 224, share_mask=False, s_ratio=0.75, c_ratio=0.25)\n",
    "serial_dpunit_basicblock.resnet34(224, 224, share_mask=False, s_ratio=0.5, c_ratio=0.25)\n",
    "serial_dpunit_basicblock.resnet34(224, 224, share_mask=False, s_ratio=0.25, c_ratio=0.25)"
   ]
  },
  {
   "cell_type": "markdown",
   "metadata": {},
   "source": [
    "### Parallel PE Implementation DPUnit"
   ]
  },
  {
   "cell_type": "code",
   "execution_count": 5,
   "metadata": {},
   "outputs": [],
   "source": [
    "parallel_dpunit_basicblock = resnet_basicblock_sparse(\"./bitfiles/resnet_basicblock_sparse_parallel.bit\")"
   ]
  },
  {
   "cell_type": "code",
   "execution_count": 6,
   "metadata": {},
   "outputs": [
    {
     "name": "stdout",
     "output_type": "stream",
     "text": [
      "-------------------start-------------------\n",
      "Model: ResNet18 with spatial ratio 0.75 and channel ratio 0.75\n",
      "Averaged latency:14.30995225906372 in 100 times of test\n",
      "-------------------end-------------------\n",
      "\n",
      "-------------------start-------------------\n",
      "Model: ResNet18 with spatial ratio 0.5 and channel ratio 0.75\n",
      "Averaged latency:13.647561073303223 in 100 times of test\n",
      "-------------------end-------------------\n",
      "\n",
      "-------------------start-------------------\n",
      "Model: ResNet18 with spatial ratio 0.25 and channel ratio 0.75\n",
      "Averaged latency:12.865326404571533 in 100 times of test\n",
      "-------------------end-------------------\n",
      "\n",
      "-------------------start-------------------\n",
      "Model: ResNet18 with spatial ratio 0.75 and channel ratio 0.5\n",
      "Averaged latency:13.89840841293335 in 100 times of test\n",
      "-------------------end-------------------\n",
      "\n",
      "-------------------start-------------------\n",
      "Model: ResNet18 with spatial ratio 0.5 and channel ratio 0.5\n",
      "Averaged latency:13.238530158996582 in 100 times of test\n",
      "-------------------end-------------------\n",
      "\n",
      "-------------------start-------------------\n",
      "Model: ResNet18 with spatial ratio 0.25 and channel ratio 0.5\n",
      "Averaged latency:12.342498302459717 in 100 times of test\n",
      "-------------------end-------------------\n",
      "\n",
      "-------------------start-------------------\n",
      "Model: ResNet18 with spatial ratio 0.75 and channel ratio 0.25\n",
      "Averaged latency:13.43031644821167 in 100 times of test\n",
      "-------------------end-------------------\n",
      "\n",
      "-------------------start-------------------\n",
      "Model: ResNet18 with spatial ratio 0.5 and channel ratio 0.25\n",
      "Averaged latency:12.6377272605896 in 100 times of test\n",
      "-------------------end-------------------\n",
      "\n",
      "-------------------start-------------------\n",
      "Model: ResNet18 with spatial ratio 0.25 and channel ratio 0.25\n",
      "Averaged latency:12.049894332885742 in 100 times of test\n",
      "-------------------end-------------------\n",
      "\n"
     ]
    }
   ],
   "source": [
    "parallel_dpunit_basicblock.resnet18(224, 224, share_mask=False, s_ratio=0.75, c_ratio=0.75)\n",
    "parallel_dpunit_basicblock.resnet18(224, 224, share_mask=False, s_ratio=0.5, c_ratio=0.75)\n",
    "parallel_dpunit_basicblock.resnet18(224, 224, share_mask=False, s_ratio=0.25, c_ratio=0.75)\n",
    "parallel_dpunit_basicblock.resnet18(224, 224, share_mask=False, s_ratio=0.75, c_ratio=0.5)\n",
    "parallel_dpunit_basicblock.resnet18(224, 224, share_mask=False, s_ratio=0.5, c_ratio=0.5)\n",
    "parallel_dpunit_basicblock.resnet18(224, 224, share_mask=False, s_ratio=0.25, c_ratio=0.5)\n",
    "parallel_dpunit_basicblock.resnet18(224, 224, share_mask=False, s_ratio=0.75, c_ratio=0.25)\n",
    "parallel_dpunit_basicblock.resnet18(224, 224, share_mask=False, s_ratio=0.5, c_ratio=0.25)\n",
    "parallel_dpunit_basicblock.resnet18(224, 224, share_mask=False, s_ratio=0.25, c_ratio=0.25)"
   ]
  },
  {
   "cell_type": "code",
   "execution_count": 7,
   "metadata": {},
   "outputs": [
    {
     "name": "stdout",
     "output_type": "stream",
     "text": [
      "-------------------start-------------------\n",
      "Model: ResNet34 with spatial ratio 0.75 and channel ratio 0.75\n",
      "Averaged latency:23.708655834197998 in 100 times of test\n",
      "-------------------end-------------------\n",
      "\n",
      "-------------------start-------------------\n",
      "Model: ResNet34 with spatial ratio 0.5 and channel ratio 0.75\n",
      "Averaged latency:21.8226957321167 in 100 times of test\n",
      "-------------------end-------------------\n",
      "\n",
      "-------------------start-------------------\n",
      "Model: ResNet34 with spatial ratio 0.25 and channel ratio 0.75\n",
      "Averaged latency:20.154478549957275 in 100 times of test\n",
      "-------------------end-------------------\n",
      "\n",
      "-------------------start-------------------\n",
      "Model: ResNet34 with spatial ratio 0.75 and channel ratio 0.5\n",
      "Averaged latency:22.178170680999756 in 100 times of test\n",
      "-------------------end-------------------\n",
      "\n",
      "-------------------start-------------------\n",
      "Model: ResNet34 with spatial ratio 0.5 and channel ratio 0.5\n",
      "Averaged latency:20.664429664611816 in 100 times of test\n",
      "-------------------end-------------------\n",
      "\n",
      "-------------------start-------------------\n",
      "Model: ResNet34 with spatial ratio 0.25 and channel ratio 0.5\n",
      "Averaged latency:18.815858364105225 in 100 times of test\n",
      "-------------------end-------------------\n",
      "\n",
      "-------------------start-------------------\n",
      "Model: ResNet34 with spatial ratio 0.75 and channel ratio 0.25\n",
      "Averaged latency:20.834879875183105 in 100 times of test\n",
      "-------------------end-------------------\n",
      "\n",
      "-------------------start-------------------\n",
      "Model: ResNet34 with spatial ratio 0.5 and channel ratio 0.25\n",
      "Averaged latency:19.225597381591797 in 100 times of test\n",
      "-------------------end-------------------\n",
      "\n",
      "-------------------start-------------------\n",
      "Model: ResNet34 with spatial ratio 0.25 and channel ratio 0.25\n",
      "Averaged latency:17.83639430999756 in 100 times of test\n",
      "-------------------end-------------------\n",
      "\n"
     ]
    }
   ],
   "source": [
    "parallel_dpunit_basicblock.resnet34(224, 224, share_mask=False, s_ratio=0.75, c_ratio=0.75)\n",
    "parallel_dpunit_basicblock.resnet34(224, 224, share_mask=False, s_ratio=0.5, c_ratio=0.75)\n",
    "parallel_dpunit_basicblock.resnet34(224, 224, share_mask=False, s_ratio=0.25, c_ratio=0.75)\n",
    "parallel_dpunit_basicblock.resnet34(224, 224, share_mask=False, s_ratio=0.75, c_ratio=0.5)\n",
    "parallel_dpunit_basicblock.resnet34(224, 224, share_mask=False, s_ratio=0.5, c_ratio=0.5)\n",
    "parallel_dpunit_basicblock.resnet34(224, 224, share_mask=False, s_ratio=0.25, c_ratio=0.5)\n",
    "parallel_dpunit_basicblock.resnet34(224, 224, share_mask=False, s_ratio=0.75, c_ratio=0.25)\n",
    "parallel_dpunit_basicblock.resnet34(224, 224, share_mask=False, s_ratio=0.5, c_ratio=0.25)\n",
    "parallel_dpunit_basicblock.resnet34(224, 224, share_mask=False, s_ratio=0.25, c_ratio=0.25)"
   ]
  },
  {
   "cell_type": "code",
   "execution_count": null,
   "metadata": {},
   "outputs": [],
   "source": []
  }
 ],
 "metadata": {
  "kernelspec": {
   "display_name": "Python 3.6.9 64-bit",
   "language": "python",
   "name": "python3"
  },
  "language_info": {
   "codemirror_mode": {
    "name": "ipython",
    "version": 3
   },
   "file_extension": ".py",
   "mimetype": "text/x-python",
   "name": "python",
   "nbconvert_exporter": "python",
   "pygments_lexer": "ipython3",
   "version": "3.6.9"
  },
  "vscode": {
   "interpreter": {
    "hash": "31f2aee4e71d21fbe5cf8b01ff0e069b9275f58929596ceb00d14d90e3e16cd6"
   }
  }
 },
 "nbformat": 4,
 "nbformat_minor": 2
}
