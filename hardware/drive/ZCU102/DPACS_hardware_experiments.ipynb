{
 "cells": [
  {
   "cell_type": "markdown",
   "metadata": {},
   "source": [
    "# Testing latency of DPUnits\n",
    "\n",
    "This jupyter notebook contains latency test code and output of DPCAS architecture. Run throughout all the cells to reproduce the results.\n",
    "\n",
    "Note: If there is OS ERROR on memory allocation, please try restart the kernel and continue from where it stucks. If this can not solve the problem, reboot the board from command line.\n"
   ]
  },
  {
   "cell_type": "code",
   "execution_count": 1,
   "metadata": {},
   "outputs": [
    {
     "data": {
      "application/javascript": [
       "\n",
       "try {\n",
       "require(['notebook/js/codecell'], function(codecell) {\n",
       "  codecell.CodeCell.options_default.highlight_modes[\n",
       "      'magic_text/x-csrc'] = {'reg':[/^%%microblaze/]};\n",
       "  Jupyter.notebook.events.one('kernel_ready.Kernel', function(){\n",
       "      Jupyter.notebook.get_cells().map(function(cell){\n",
       "          if (cell.cell_type == 'code'){ cell.auto_highlight(); } }) ;\n",
       "  });\n",
       "});\n",
       "} catch (e) {};\n"
      ]
     },
     "metadata": {},
     "output_type": "display_data"
    },
    {
     "data": {
      "application/javascript": [
       "\n",
       "try {\n",
       "require(['notebook/js/codecell'], function(codecell) {\n",
       "  codecell.CodeCell.options_default.highlight_modes[\n",
       "      'magic_text/x-csrc'] = {'reg':[/^%%pybind11/]};\n",
       "  Jupyter.notebook.events.one('kernel_ready.Kernel', function(){\n",
       "      Jupyter.notebook.get_cells().map(function(cell){\n",
       "          if (cell.cell_type == 'code'){ cell.auto_highlight(); } }) ;\n",
       "  });\n",
       "});\n",
       "} catch (e) {};\n"
      ]
     },
     "metadata": {},
     "output_type": "display_data"
    }
   ],
   "source": [
    "import pynq\n",
    "from pynq import Overlay \n",
    "from pynq import allocate\n",
    "from pynq import Xlnk\n",
    "import numpy as np\n",
    "import time\n",
    "import matplotlib.pyplot as plt\n",
    "from matplotlib.patches import Rectangle\n",
    "import math\n",
    "import gc\n",
    "import json\n",
    "import os\n",
    "import pickle\n",
    "\n",
    "from resnet_basicblock_dense import *\n",
    "from resnet_bottleneck_dense import *\n",
    "from resnet_basicblock_sparse import *\n",
    "from resnet_bottleneck_sparse import *"
   ]
  },
  {
   "cell_type": "markdown",
   "metadata": {},
   "source": [
    "## ResNet 50 / 101 \n",
    "\n",
    "### Serial  PE Implementation Dense Baseline"
   ]
  },
  {
   "cell_type": "code",
   "execution_count": 2,
   "metadata": {},
   "outputs": [],
   "source": [
    "serial_dense_bottleneck = resnet_bottleneck_dense(\"./bitfiles/resnet_bottleneck_dense_serial.bit\")"
   ]
  },
  {
   "cell_type": "code",
   "execution_count": 3,
   "metadata": {
    "scrolled": false
   },
   "outputs": [
    {
     "name": "stdout",
     "output_type": "stream",
     "text": [
      "-------------------start-------------------\n",
      "Model: Dense ResNet50 \n",
      "Averaged latency:58.81169557571411 in 100 times of test\n",
      "-------------------end-------------------\n",
      "\n",
      "-------------------start-------------------\n",
      "Model: Dense ResNet101 \n",
      "Averaged latency:95.32502174377441 in 100 times of test\n",
      "-------------------end-------------------\n",
      "\n"
     ]
    }
   ],
   "source": [
    "serial_dense_bottleneck.resnet50(224, 224)\n",
    "serial_dense_bottleneck.resnet101(224, 224)"
   ]
  },
  {
   "cell_type": "markdown",
   "metadata": {},
   "source": [
    "### Parallel PE Implementation Dense Baseline"
   ]
  },
  {
   "cell_type": "code",
   "execution_count": 5,
   "metadata": {},
   "outputs": [],
   "source": [
    "parallel_dense_bottleneck = resnet_bottleneck_dense(\"./bitfiles/resnet_bottleneck_dense_parallel.bit\")"
   ]
  },
  {
   "cell_type": "code",
   "execution_count": 6,
   "metadata": {
    "scrolled": true
   },
   "outputs": [
    {
     "name": "stdout",
     "output_type": "stream",
     "text": [
      "-------------------start-------------------\n",
      "Model: Dense ResNet50 \n",
      "Averaged latency:32.839202880859375 in 100 times of test\n",
      "-------------------end-------------------\n",
      "\n",
      "-------------------start-------------------\n",
      "Model: Dense ResNet101 \n",
      "Averaged latency:49.47508096694946 in 100 times of test\n",
      "-------------------end-------------------\n",
      "\n"
     ]
    }
   ],
   "source": [
    "parallel_dense_bottleneck.resnet50(224, 224)\n",
    "parallel_dense_bottleneck.resnet101(224, 224)"
   ]
  },
  {
   "cell_type": "markdown",
   "metadata": {},
   "source": [
    "### Serial PE Implementation DPUnit"
   ]
  },
  {
   "cell_type": "code",
   "execution_count": 5,
   "metadata": {},
   "outputs": [],
   "source": [
    "serial_dpunit_bottleneck = resnet_bottleneck_sparse(\"./bitfiles/resnet_bottleneck_sparse_serial.bit\")"
   ]
  },
  {
   "cell_type": "code",
   "execution_count": 7,
   "metadata": {
    "scrolled": false
   },
   "outputs": [
    {
     "name": "stdout",
     "output_type": "stream",
     "text": [
      "------------------start--------------------\n",
      "Model: ResNet50 with spatial ratio 0.75 and channel ratio 0.75\n",
      "Averaged latency:41.50731325149536 in 100 times of test\n",
      "-------------------end-------------------\n",
      "\n",
      "------------------start--------------------\n",
      "Model: ResNet50 with spatial ratio 0.5 and channel ratio 0.75\n",
      "Averaged latency:31.12295389175415 in 100 times of test\n",
      "-------------------end-------------------\n",
      "\n",
      "------------------start--------------------\n",
      "Model: ResNet50 with spatial ratio 0.25 and channel ratio 0.75\n",
      "Averaged latency:24.47096824645996 in 100 times of test\n",
      "-------------------end-------------------\n",
      "\n",
      "------------------start--------------------\n",
      "Model: ResNet50 with spatial ratio 0.75 and channel ratio 0.5\n",
      "Averaged latency:36.453561782836914 in 100 times of test\n",
      "-------------------end-------------------\n",
      "\n",
      "------------------start--------------------\n",
      "Model: ResNet50 with spatial ratio 0.5 and channel ratio 0.5\n",
      "Averaged latency:27.54079580307007 in 100 times of test\n",
      "-------------------end-------------------\n",
      "\n",
      "------------------start--------------------\n",
      "Model: ResNet50 with spatial ratio 0.25 and channel ratio 0.5\n",
      "Averaged latency:21.728246212005615 in 100 times of test\n",
      "-------------------end-------------------\n",
      "\n",
      "------------------start--------------------\n",
      "Model: ResNet50 with spatial ratio 0.75 and channel ratio 0.25\n",
      "Averaged latency:32.94276237487793 in 100 times of test\n",
      "-------------------end-------------------\n",
      "\n",
      "------------------start--------------------\n",
      "Model: ResNet50 with spatial ratio 0.5 and channel ratio 0.25\n",
      "Averaged latency:24.487717151641846 in 100 times of test\n",
      "-------------------end-------------------\n",
      "\n",
      "------------------start--------------------\n",
      "Model: ResNet50 with spatial ratio 0.25 and channel ratio 0.25\n",
      "Averaged latency:19.623520374298096 in 100 times of test\n",
      "-------------------end-------------------\n",
      "\n"
     ]
    }
   ],
   "source": [
    "## Block Mask\n",
    "serial_dpunit_bottleneck.resnet50(224, 224, share_mask=False, s_ratio=0.75, c_ratio=0.75)\n",
    "serial_dpunit_bottleneck.resnet50(224, 224, share_mask=False, s_ratio=0.5, c_ratio=0.75)\n",
    "serial_dpunit_bottleneck.resnet50(224, 224, share_mask=False, s_ratio=0.25, c_ratio=0.75)\n",
    "serial_dpunit_bottleneck.resnet50(224, 224, share_mask=False, s_ratio=0.75, c_ratio=0.5)\n",
    "serial_dpunit_bottleneck.resnet50(224, 224, share_mask=False, s_ratio=0.5, c_ratio=0.5)\n",
    "serial_dpunit_bottleneck.resnet50(224, 224, share_mask=False, s_ratio=0.25, c_ratio=0.5)\n",
    "serial_dpunit_bottleneck.resnet50(224, 224, share_mask=False, s_ratio=0.75, c_ratio=0.25)\n",
    "serial_dpunit_bottleneck.resnet50(224, 224, share_mask=False, s_ratio=0.5, c_ratio=0.25)\n",
    "serial_dpunit_bottleneck.resnet50(224, 224, share_mask=False, s_ratio=0.25, c_ratio=0.25)"
   ]
  },
  {
   "cell_type": "code",
   "execution_count": 8,
   "metadata": {},
   "outputs": [
    {
     "name": "stdout",
     "output_type": "stream",
     "text": [
      "-------------------start-------------------\n",
      "Model: ResNet101 with spatial ratio 0.75 and channel ratio 0.75\n",
      "Averaged latency:59.598538875579834 in 100 times of test\n",
      "-------------------end-------------------\n",
      "\n",
      "-------------------start-------------------\n",
      "Model: ResNet101 with spatial ratio 0.5 and channel ratio 0.75\n",
      "Averaged latency:44.34924364089966 in 100 times of test\n",
      "-------------------end-------------------\n",
      "\n",
      "-------------------start-------------------\n",
      "Model: ResNet101 with spatial ratio 0.25 and channel ratio 0.75\n",
      "Averaged latency:34.145636558532715 in 100 times of test\n",
      "-------------------end-------------------\n",
      "\n",
      "-------------------start-------------------\n",
      "Model: ResNet101 with spatial ratio 0.75 and channel ratio 0.5\n",
      "Averaged latency:48.580849170684814 in 100 times of test\n",
      "-------------------end-------------------\n",
      "\n",
      "-------------------start-------------------\n",
      "Model: ResNet101 with spatial ratio 0.5 and channel ratio 0.5\n",
      "Averaged latency:36.20575666427612 in 100 times of test\n",
      "-------------------end-------------------\n",
      "\n",
      "-------------------start-------------------\n",
      "Model: ResNet101 with spatial ratio 0.25 and channel ratio 0.5\n",
      "Averaged latency:28.477842807769775 in 100 times of test\n",
      "-------------------end-------------------\n",
      "\n",
      "-------------------start-------------------\n",
      "Model: ResNet101 with spatial ratio 0.75 and channel ratio 0.25\n",
      "Averaged latency:39.38119173049927 in 100 times of test\n",
      "-------------------end-------------------\n",
      "\n",
      "-------------------start-------------------\n",
      "Model: ResNet101 with spatial ratio 0.5 and channel ratio 0.25\n",
      "Averaged latency:30.271859169006348 in 100 times of test\n",
      "-------------------end-------------------\n",
      "\n",
      "-------------------start-------------------\n",
      "Model: ResNet101 with spatial ratio 0.25 and channel ratio 0.25\n",
      "Averaged latency:24.451310634613037 in 100 times of test\n",
      "-------------------end-------------------\n",
      "\n"
     ]
    }
   ],
   "source": [
    "serial_dpunit_bottleneck.resnet101(224, 224, share_mask=False, s_ratio=0.75, c_ratio=0.75)\n",
    "serial_dpunit_bottleneck.resnet101(224, 224, share_mask=False, s_ratio=0.5, c_ratio=0.75)\n",
    "serial_dpunit_bottleneck.resnet101(224, 224, share_mask=False, s_ratio=0.25, c_ratio=0.75)\n",
    "serial_dpunit_bottleneck.resnet101(224, 224, share_mask=False, s_ratio=0.75, c_ratio=0.5)\n",
    "serial_dpunit_bottleneck.resnet101(224, 224, share_mask=False, s_ratio=0.5, c_ratio=0.5)\n",
    "serial_dpunit_bottleneck.resnet101(224, 224, share_mask=False, s_ratio=0.25, c_ratio=0.5)\n",
    "serial_dpunit_bottleneck.resnet101(224, 224, share_mask=False, s_ratio=0.75, c_ratio=0.25)\n",
    "serial_dpunit_bottleneck.resnet101(224, 224, share_mask=False, s_ratio=0.5, c_ratio=0.25)\n",
    "serial_dpunit_bottleneck.resnet101(224, 224, share_mask=False, s_ratio=0.25, c_ratio=0.25)"
   ]
  },
  {
   "cell_type": "code",
   "execution_count": 9,
   "metadata": {
    "scrolled": false
   },
   "outputs": [
    {
     "name": "stdout",
     "output_type": "stream",
     "text": [
      "------------------start--------------------\n",
      "Model: ResNet50 with spatial ratio 0.75 and channel ratio 0.75\n",
      "Averaged latency:41.67536020278931 in 100 times of test\n",
      "-------------------end-------------------\n",
      "\n",
      "------------------start--------------------\n",
      "Model: ResNet50 with spatial ratio 0.5 and channel ratio 0.5\n",
      "Averaged latency:27.51816987991333 in 100 times of test\n",
      "-------------------end-------------------\n",
      "\n",
      "------------------start--------------------\n",
      "Model: ResNet50 with spatial ratio 0.25 and channel ratio 0.25\n",
      "Averaged latency:18.4051251411438 in 100 times of test\n",
      "-------------------end-------------------\n",
      "\n",
      "-------------------start-------------------\n",
      "Model: ResNet101 with spatial ratio 0.75 and channel ratio 0.75\n",
      "Averaged latency:60.62183618545532 in 100 times of test\n",
      "-------------------end-------------------\n",
      "\n",
      "-------------------start-------------------\n",
      "Model: ResNet101 with spatial ratio 0.5 and channel ratio 0.5\n",
      "Averaged latency:36.226210594177246 in 100 times of test\n",
      "-------------------end-------------------\n",
      "\n",
      "-------------------start-------------------\n",
      "Model: ResNet101 with spatial ratio 0.25 and channel ratio 0.25\n",
      "Averaged latency:22.408418655395508 in 100 times of test\n",
      "-------------------end-------------------\n",
      "\n"
     ]
    }
   ],
   "source": [
    "## Resolution Mask\n",
    "serial_dpunit_bottleneck.resnet50(224, 224, share_mask=True, s_ratio=0.75, c_ratio=0.75)\n",
    "serial_dpunit_bottleneck.resnet50(224, 224, share_mask=True, s_ratio=0.5, c_ratio=0.5)\n",
    "serial_dpunit_bottleneck.resnet50(224, 224, share_mask=True, s_ratio=0.25, c_ratio=0.25)\n",
    "serial_dpunit_bottleneck.resnet101(224, 224, share_mask=True, s_ratio=0.75, c_ratio=0.75)\n",
    "serial_dpunit_bottleneck.resnet101(224, 224, share_mask=True, s_ratio=0.5, c_ratio=0.5)\n",
    "serial_dpunit_bottleneck.resnet101(224, 224, share_mask=True, s_ratio=0.25, c_ratio=0.25)"
   ]
  },
  {
   "cell_type": "markdown",
   "metadata": {},
   "source": [
    "### Parallel PE Implementation DPUnit"
   ]
  },
  {
   "cell_type": "code",
   "execution_count": 9,
   "metadata": {},
   "outputs": [],
   "source": [
    "parallel_dpunit_bottleneck = resnet_bottleneck_sparse(\"./bitfiles/resnet_bottleneck_sparse_parallel.bit\")"
   ]
  },
  {
   "cell_type": "code",
   "execution_count": 3,
   "metadata": {},
   "outputs": [
    {
     "name": "stdout",
     "output_type": "stream",
     "text": [
      "------------------start--------------------\n",
      "Model: ResNet50 with spatial ratio 0.75 and channel ratio 0.75\n",
      "Averaged latency:28.60671043395996 in 100 times of test\n",
      "-------------------end-------------------\n",
      "\n",
      "------------------start--------------------\n",
      "Model: ResNet50 with spatial ratio 0.5 and channel ratio 0.5\n",
      "Averaged latency:23.30089569091797 in 100 times of test\n",
      "-------------------end-------------------\n",
      "\n",
      "------------------start--------------------\n",
      "Model: ResNet50 with spatial ratio 0.25 and channel ratio 0.25\n",
      "Averaged latency:19.895811080932617 in 100 times of test\n",
      "-------------------end-------------------\n",
      "\n",
      "------------------start--------------------\n",
      "Model: ResNet50 with spatial ratio 0.75 and channel ratio 0.5\n",
      "Averaged latency:24.973437786102295 in 100 times of test\n",
      "-------------------end-------------------\n",
      "\n",
      "------------------start--------------------\n",
      "Model: ResNet50 with spatial ratio 0.5 and channel ratio 0.5\n",
      "Averaged latency:23.18812608718872 in 100 times of test\n",
      "-------------------end-------------------\n",
      "\n",
      "------------------start--------------------\n",
      "Model: ResNet50 with spatial ratio 0.25 and channel ratio 0.5\n",
      "Averaged latency:21.69661045074463 in 100 times of test\n",
      "-------------------end-------------------\n",
      "\n",
      "------------------start--------------------\n",
      "Model: ResNet50 with spatial ratio 0.75 and channel ratio 0.25\n",
      "Averaged latency:22.15949773788452 in 100 times of test\n",
      "-------------------end-------------------\n",
      "\n",
      "------------------start--------------------\n",
      "Model: ResNet50 with spatial ratio 0.5 and channel ratio 0.25\n",
      "Averaged latency:20.87733268737793 in 100 times of test\n",
      "-------------------end-------------------\n",
      "\n",
      "------------------start--------------------\n",
      "Model: ResNet50 with spatial ratio 0.25 and channel ratio 0.25\n",
      "Averaged latency:19.913084506988525 in 100 times of test\n",
      "-------------------end-------------------\n",
      "\n"
     ]
    }
   ],
   "source": [
    "## Block Mask\n",
    "parallel_dpunit_bottleneck.resnet50(224, 224, share_mask=False, s_ratio=0.75, c_ratio=0.75)\n",
    "parallel_dpunit_bottleneck.resnet50(224, 224, share_mask=False, s_ratio=0.5, c_ratio=0.5)\n",
    "parallel_dpunit_bottleneck.resnet50(224, 224, share_mask=False, s_ratio=0.25, c_ratio=0.25)\n",
    "parallel_dpunit_bottleneck.resnet50(224, 224, share_mask=False, s_ratio=0.75, c_ratio=0.5)\n",
    "parallel_dpunit_bottleneck.resnet50(224, 224, share_mask=False, s_ratio=0.5, c_ratio=0.5)\n",
    "parallel_dpunit_bottleneck.resnet50(224, 224, share_mask=False, s_ratio=0.25, c_ratio=0.5)\n",
    "parallel_dpunit_bottleneck.resnet50(224, 224, share_mask=False, s_ratio=0.75, c_ratio=0.25)\n",
    "parallel_dpunit_bottleneck.resnet50(224, 224, share_mask=False, s_ratio=0.5, c_ratio=0.25)\n",
    "parallel_dpunit_bottleneck.resnet50(224, 224, share_mask=False, s_ratio=0.25, c_ratio=0.25)"
   ]
  },
  {
   "cell_type": "code",
   "execution_count": 4,
   "metadata": {},
   "outputs": [
    {
     "name": "stdout",
     "output_type": "stream",
     "text": [
      "-------------------start-------------------\n",
      "Model: ResNet101 with spatial ratio 0.75 and channel ratio 0.75\n",
      "Averaged latency:40.87536096572876 in 100 times of test\n",
      "-------------------end-------------------\n",
      "\n",
      "-------------------start-------------------\n",
      "Model: ResNet101 with spatial ratio 0.5 and channel ratio 0.75\n",
      "Averaged latency:37.03089952468872 in 100 times of test\n",
      "-------------------end-------------------\n",
      "\n",
      "-------------------start-------------------\n",
      "Model: ResNet101 with spatial ratio 0.25 and channel ratio 0.75\n",
      "Averaged latency:33.99348735809326 in 100 times of test\n",
      "-------------------end-------------------\n",
      "\n",
      "-------------------start-------------------\n",
      "Model: ResNet101 with spatial ratio 0.75 and channel ratio 0.5\n",
      "Averaged latency:33.558855056762695 in 100 times of test\n",
      "-------------------end-------------------\n",
      "\n",
      "-------------------start-------------------\n",
      "Model: ResNet101 with spatial ratio 0.5 and channel ratio 0.5\n",
      "Averaged latency:30.866827964782715 in 100 times of test\n",
      "-------------------end-------------------\n",
      "\n",
      "-------------------start-------------------\n",
      "Model: ResNet101 with spatial ratio 0.25 and channel ratio 0.5\n",
      "Averaged latency:28.383700847625732 in 100 times of test\n",
      "-------------------end-------------------\n",
      "\n",
      "-------------------start-------------------\n",
      "Model: ResNet101 with spatial ratio 0.75 and channel ratio 0.25\n",
      "Averaged latency:28.382771015167236 in 100 times of test\n",
      "-------------------end-------------------\n",
      "\n",
      "-------------------start-------------------\n",
      "Model: ResNet101 with spatial ratio 0.5 and channel ratio 0.25\n",
      "Averaged latency:26.315109729766846 in 100 times of test\n",
      "-------------------end-------------------\n",
      "\n",
      "-------------------start-------------------\n",
      "Model: ResNet101 with spatial ratio 0.25 and channel ratio 0.25\n",
      "Averaged latency:24.594542980194092 in 100 times of test\n",
      "-------------------end-------------------\n",
      "\n"
     ]
    }
   ],
   "source": [
    "parallel_dpunit_bottleneck.resnet101(224, 224, share_mask=False, s_ratio=0.75, c_ratio=0.75)\n",
    "parallel_dpunit_bottleneck.resnet101(224, 224, share_mask=False, s_ratio=0.5, c_ratio=0.75)\n",
    "parallel_dpunit_bottleneck.resnet101(224, 224, share_mask=False, s_ratio=0.25, c_ratio=0.75)\n",
    "parallel_dpunit_bottleneck.resnet101(224, 224, share_mask=False, s_ratio=0.75, c_ratio=0.5)\n",
    "parallel_dpunit_bottleneck.resnet101(224, 224, share_mask=False, s_ratio=0.5, c_ratio=0.5)\n",
    "parallel_dpunit_bottleneck.resnet101(224, 224, share_mask=False, s_ratio=0.25, c_ratio=0.5)\n",
    "parallel_dpunit_bottleneck.resnet101(224, 224, share_mask=False, s_ratio=0.75, c_ratio=0.25)\n",
    "parallel_dpunit_bottleneck.resnet101(224, 224, share_mask=False, s_ratio=0.5, c_ratio=0.25)\n",
    "parallel_dpunit_bottleneck.resnet101(224, 224, share_mask=False, s_ratio=0.25, c_ratio=0.25)"
   ]
  },
  {
   "cell_type": "code",
   "execution_count": 10,
   "metadata": {
    "scrolled": false
   },
   "outputs": [
    {
     "name": "stdout",
     "output_type": "stream",
     "text": [
      "------------------start--------------------\n",
      "Model: ResNet50 with spatial ratio 0.75 and channel ratio 0.75\n",
      "Averaged latency:28.035693168640137 in 100 times of test\n",
      "-------------------end-------------------\n",
      "\n",
      "------------------start--------------------\n",
      "Model: ResNet50 with spatial ratio 0.5 and channel ratio 0.5\n",
      "Averaged latency:21.79368495941162 in 100 times of test\n",
      "-------------------end-------------------\n",
      "\n",
      "------------------start--------------------\n",
      "Model: ResNet50 with spatial ratio 0.25 and channel ratio 0.25\n",
      "Averaged latency:17.286100387573242 in 100 times of test\n",
      "-------------------end-------------------\n",
      "\n",
      "-------------------start-------------------\n",
      "Model: ResNet101 with spatial ratio 0.75 and channel ratio 0.75\n",
      "Averaged latency:40.99081039428711 in 100 times of test\n",
      "-------------------end-------------------\n",
      "\n",
      "-------------------start-------------------\n",
      "Model: ResNet101 with spatial ratio 0.5 and channel ratio 0.5\n",
      "Averaged latency:29.4472599029541 in 100 times of test\n",
      "-------------------end-------------------\n",
      "\n",
      "-------------------start-------------------\n",
      "Model: ResNet101 with spatial ratio 0.25 and channel ratio 0.25\n",
      "Averaged latency:21.295289993286133 in 100 times of test\n",
      "-------------------end-------------------\n",
      "\n"
     ]
    }
   ],
   "source": [
    "# Resolution Mask\n",
    "parallel_dpunit_bottleneck.resnet50(224, 224,  share_mask=True, s_ratio=0.75, c_ratio=0.75)\n",
    "parallel_dpunit_bottleneck.resnet50(224, 224,  share_mask=True, s_ratio=0.5, c_ratio=0.5)\n",
    "parallel_dpunit_bottleneck.resnet50(224, 224,  share_mask=True, s_ratio=0.25, c_ratio=0.25)\n",
    "parallel_dpunit_bottleneck.resnet101(224, 224, share_mask=True, s_ratio=0.75, c_ratio=0.75)\n",
    "parallel_dpunit_bottleneck.resnet101(224, 224, share_mask=True, s_ratio=0.5, c_ratio=0.5)\n",
    "parallel_dpunit_bottleneck.resnet101(224, 224, share_mask=True, s_ratio=0.25, c_ratio=0.25)"
   ]
  },
  {
   "cell_type": "markdown",
   "metadata": {},
   "source": [
    "## ResNet 18/ 34\n",
    "### Serial  PE Implementation Dense Baseline"
   ]
  },
  {
   "cell_type": "code",
   "execution_count": 2,
   "metadata": {},
   "outputs": [],
   "source": [
    "serial_dense_basicblock = resnet_basicblock_dense(\"./bitfiles/resnet_basicblock_dense_serial.bit\")"
   ]
  },
  {
   "cell_type": "code",
   "execution_count": 3,
   "metadata": {},
   "outputs": [
    {
     "name": "stdout",
     "output_type": "stream",
     "text": [
      "-------------------start-------------------\n",
      "Model: Dense ResNet18 \n",
      "Averaged latency:29.872772693634033 in 100 times of test\n",
      "-------------------end-------------------\n",
      "\n",
      "-------------------start-------------------\n",
      "Model: Dense ResNet34 \n",
      "Averaged latency:53.04683208465576 in 100 times of test\n",
      "-------------------end-------------------\n",
      "\n"
     ]
    }
   ],
   "source": [
    "serial_dense_basicblock.resnet18(224, 224)\n",
    "serial_dense_basicblock.resnet34(224, 224)"
   ]
  },
  {
   "cell_type": "markdown",
   "metadata": {},
   "source": [
    "### Paralle PE Implementation Dense Baseline"
   ]
  },
  {
   "cell_type": "code",
   "execution_count": 4,
   "metadata": {},
   "outputs": [],
   "source": [
    "parallel_dense_basicblock = resnet_basicblock_dense(\"./bitfiles/resnet_basicblock_dense_parallel.bit\")"
   ]
  },
  {
   "cell_type": "code",
   "execution_count": 5,
   "metadata": {
    "scrolled": true
   },
   "outputs": [
    {
     "name": "stdout",
     "output_type": "stream",
     "text": [
      "-------------------start-------------------\n",
      "Model: Dense ResNet18 \n",
      "Averaged latency:15.74850082397461 in 100 times of test\n",
      "-------------------end-------------------\n",
      "\n",
      "-------------------start-------------------\n",
      "Model: Dense ResNet34 \n",
      "Averaged latency:26.029679775238037 in 100 times of test\n",
      "-------------------end-------------------\n",
      "\n"
     ]
    }
   ],
   "source": [
    "parallel_dense_basicblock.resnet18(224, 224)\n",
    "parallel_dense_basicblock.resnet34(224, 224)"
   ]
  },
  {
   "cell_type": "markdown",
   "metadata": {},
   "source": [
    "### Serail PE Implemenation DPUnit"
   ]
  },
  {
   "cell_type": "code",
   "execution_count": 7,
   "metadata": {},
   "outputs": [],
   "source": [
    "serial_dpunit_basicblock = resnet_basicblock_sparse(\"./bitfiles/resnet_basicblock_sparse_serial.bit\")"
   ]
  },
  {
   "cell_type": "code",
   "execution_count": 3,
   "metadata": {},
   "outputs": [
    {
     "name": "stdout",
     "output_type": "stream",
     "text": [
      "-------------------start-------------------\n",
      "Model: ResNet18 with spatial ratio 0.75 and channel ratio 0.75\n",
      "Averaged latency:23.350307941436768 in 100 times of test\n",
      "-------------------end-------------------\n",
      "\n",
      "-------------------start-------------------\n",
      "Model: ResNet18 with spatial ratio 0.5 and channel ratio 0.75\n",
      "Averaged latency:18.27569007873535 in 100 times of test\n",
      "-------------------end-------------------\n",
      "\n",
      "-------------------start-------------------\n",
      "Model: ResNet18 with spatial ratio 0.25 and channel ratio 0.75\n",
      "Averaged latency:14.048459529876709 in 100 times of test\n",
      "-------------------end-------------------\n",
      "\n",
      "-------------------start-------------------\n",
      "Model: ResNet18 with spatial ratio 0.75 and channel ratio 0.5\n",
      "Averaged latency:21.412577629089355 in 100 times of test\n",
      "-------------------end-------------------\n",
      "\n",
      "-------------------start-------------------\n",
      "Model: ResNet18 with spatial ratio 0.5 and channel ratio 0.5\n",
      "Averaged latency:16.890695095062256 in 100 times of test\n",
      "-------------------end-------------------\n",
      "\n",
      "-------------------start-------------------\n",
      "Model: ResNet18 with spatial ratio 0.25 and channel ratio 0.5\n",
      "Averaged latency:12.47046947479248 in 100 times of test\n",
      "-------------------end-------------------\n",
      "\n",
      "-------------------start-------------------\n",
      "Model: ResNet18 with spatial ratio 0.75 and channel ratio 0.25\n",
      "Averaged latency:19.7121262550354 in 100 times of test\n",
      "-------------------end-------------------\n",
      "\n",
      "-------------------start-------------------\n",
      "Model: ResNet18 with spatial ratio 0.5 and channel ratio 0.25\n",
      "Averaged latency:15.040242671966553 in 100 times of test\n",
      "-------------------end-------------------\n",
      "\n",
      "-------------------start-------------------\n",
      "Model: ResNet18 with spatial ratio 0.25 and channel ratio 0.25\n",
      "Averaged latency:11.222648620605469 in 100 times of test\n",
      "-------------------end-------------------\n",
      "\n"
     ]
    }
   ],
   "source": [
    "serial_dpunit_basicblock.resnet18(224, 224, share_mask=False, s_ratio=0.75, c_ratio=0.75)\n",
    "serial_dpunit_basicblock.resnet18(224, 224, share_mask=False, s_ratio=0.5, c_ratio=0.75)\n",
    "serial_dpunit_basicblock.resnet18(224, 224, share_mask=False, s_ratio=0.25, c_ratio=0.75)\n",
    "serial_dpunit_basicblock.resnet18(224, 224, share_mask=False, s_ratio=0.75, c_ratio=0.5)\n",
    "serial_dpunit_basicblock.resnet18(224, 224, share_mask=False, s_ratio=0.5, c_ratio=0.5)\n",
    "serial_dpunit_basicblock.resnet18(224, 224, share_mask=False, s_ratio=0.25, c_ratio=0.5)\n",
    "serial_dpunit_basicblock.resnet18(224, 224, share_mask=False, s_ratio=0.75, c_ratio=0.25)\n",
    "serial_dpunit_basicblock.resnet18(224, 224, share_mask=False, s_ratio=0.5, c_ratio=0.25)\n",
    "serial_dpunit_basicblock.resnet18(224, 224, share_mask=False, s_ratio=0.25, c_ratio=0.25)"
   ]
  },
  {
   "cell_type": "code",
   "execution_count": 8,
   "metadata": {
    "scrolled": false
   },
   "outputs": [
    {
     "name": "stdout",
     "output_type": "stream",
     "text": [
      "-------------------start-------------------\n",
      "Model: ResNet34 with spatial ratio 0.75 and channel ratio 0.75\n",
      "Averaged latency:38.185036182403564 in 100 times of test\n",
      "-------------------end-------------------\n",
      "\n",
      "-------------------start-------------------\n",
      "Model: ResNet34 with spatial ratio 0.5 and channel ratio 0.75\n",
      "Averaged latency:28.699796199798584 in 100 times of test\n",
      "-------------------end-------------------\n",
      "\n",
      "-------------------start-------------------\n",
      "Model: ResNet34 with spatial ratio 0.25 and channel ratio 0.75\n",
      "Averaged latency:21.03886604309082 in 100 times of test\n",
      "-------------------end-------------------\n",
      "\n",
      "-------------------start-------------------\n",
      "Model: ResNet34 with spatial ratio 0.75 and channel ratio 0.5\n",
      "Averaged latency:34.52815055847168 in 100 times of test\n",
      "-------------------end-------------------\n",
      "\n",
      "-------------------start-------------------\n",
      "Model: ResNet34 with spatial ratio 0.5 and channel ratio 0.5\n",
      "Averaged latency:25.38417339324951 in 100 times of test\n",
      "-------------------end-------------------\n",
      "\n",
      "-------------------start-------------------\n",
      "Model: ResNet34 with spatial ratio 0.25 and channel ratio 0.5\n",
      "Averaged latency:18.213934898376465 in 100 times of test\n",
      "-------------------end-------------------\n",
      "\n",
      "-------------------start-------------------\n",
      "Model: ResNet34 with spatial ratio 0.75 and channel ratio 0.25\n",
      "Averaged latency:31.181859970092773 in 100 times of test\n",
      "-------------------end-------------------\n",
      "\n",
      "-------------------start-------------------\n",
      "Model: ResNet34 with spatial ratio 0.5 and channel ratio 0.25\n",
      "Averaged latency:22.220966815948486 in 100 times of test\n",
      "-------------------end-------------------\n",
      "\n",
      "-------------------start-------------------\n",
      "Model: ResNet34 with spatial ratio 0.25 and channel ratio 0.25\n",
      "Averaged latency:15.981228351593018 in 100 times of test\n",
      "-------------------end-------------------\n",
      "\n"
     ]
    }
   ],
   "source": [
    "serial_dpunit_basicblock.resnet34(224, 224, share_mask=False, s_ratio=0.75, c_ratio=0.75)\n",
    "serial_dpunit_basicblock.resnet34(224, 224, share_mask=False, s_ratio=0.5, c_ratio=0.75)\n",
    "serial_dpunit_basicblock.resnet34(224, 224, share_mask=False, s_ratio=0.25, c_ratio=0.75)\n",
    "serial_dpunit_basicblock.resnet34(224, 224, share_mask=False, s_ratio=0.75, c_ratio=0.5)\n",
    "serial_dpunit_basicblock.resnet34(224, 224, share_mask=False, s_ratio=0.5, c_ratio=0.5)\n",
    "serial_dpunit_basicblock.resnet34(224, 224, share_mask=False, s_ratio=0.25, c_ratio=0.5)\n",
    "serial_dpunit_basicblock.resnet34(224, 224, share_mask=False, s_ratio=0.75, c_ratio=0.25)\n",
    "serial_dpunit_basicblock.resnet34(224, 224, share_mask=False, s_ratio=0.5, c_ratio=0.25)\n",
    "serial_dpunit_basicblock.resnet34(224, 224, share_mask=False, s_ratio=0.25, c_ratio=0.25)"
   ]
  },
  {
   "cell_type": "markdown",
   "metadata": {},
   "source": [
    "### Parallel PE Implementation DPUnit"
   ]
  },
  {
   "cell_type": "code",
   "execution_count": 4,
   "metadata": {},
   "outputs": [],
   "source": [
    "parallel_dpunit_basicblock = resnet_basicblock_sparse(\"./bitfiles/resnet_basicblock_sparse_parallel.bit\")"
   ]
  },
  {
   "cell_type": "code",
   "execution_count": 5,
   "metadata": {},
   "outputs": [
    {
     "name": "stdout",
     "output_type": "stream",
     "text": [
      "-------------------start-------------------\n",
      "Model: ResNet18 with spatial ratio 0.75 and channel ratio 0.75\n",
      "Averaged latency:14.820108413696289 in 100 times of test\n",
      "-------------------end-------------------\n",
      "\n",
      "-------------------start-------------------\n",
      "Model: ResNet18 with spatial ratio 0.5 and channel ratio 0.75\n",
      "Averaged latency:13.946876525878906 in 100 times of test\n",
      "-------------------end-------------------\n",
      "\n",
      "-------------------start-------------------\n",
      "Model: ResNet18 with spatial ratio 0.25 and channel ratio 0.75\n",
      "Averaged latency:13.066952228546143 in 100 times of test\n",
      "-------------------end-------------------\n",
      "\n",
      "-------------------start-------------------\n",
      "Model: ResNet18 with spatial ratio 0.75 and channel ratio 0.5\n",
      "Averaged latency:13.26897382736206 in 100 times of test\n",
      "-------------------end-------------------\n",
      "\n",
      "-------------------start-------------------\n",
      "Model: ResNet18 with spatial ratio 0.5 and channel ratio 0.5\n",
      "Averaged latency:12.526960372924805 in 100 times of test\n",
      "-------------------end-------------------\n",
      "\n",
      "-------------------start-------------------\n",
      "Model: ResNet18 with spatial ratio 0.25 and channel ratio 0.5\n",
      "Averaged latency:12.020082473754883 in 100 times of test\n",
      "-------------------end-------------------\n",
      "\n",
      "-------------------start-------------------\n",
      "Model: ResNet18 with spatial ratio 0.75 and channel ratio 0.25\n",
      "Averaged latency:11.779642105102539 in 100 times of test\n",
      "-------------------end-------------------\n",
      "\n",
      "-------------------start-------------------\n",
      "Model: ResNet18 with spatial ratio 0.5 and channel ratio 0.25\n",
      "Averaged latency:11.368582248687744 in 100 times of test\n",
      "-------------------end-------------------\n",
      "\n",
      "-------------------start-------------------\n",
      "Model: ResNet18 with spatial ratio 0.25 and channel ratio 0.25\n",
      "Averaged latency:10.795972347259521 in 100 times of test\n",
      "-------------------end-------------------\n",
      "\n"
     ]
    }
   ],
   "source": [
    "parallel_dpunit_basicblock.resnet18(224, 224, share_mask=False, s_ratio=0.75, c_ratio=0.75)\n",
    "parallel_dpunit_basicblock.resnet18(224, 224, share_mask=False, s_ratio=0.5, c_ratio=0.75)\n",
    "parallel_dpunit_basicblock.resnet18(224, 224, share_mask=False, s_ratio=0.25, c_ratio=0.75)\n",
    "parallel_dpunit_basicblock.resnet18(224, 224, share_mask=False, s_ratio=0.75, c_ratio=0.5)\n",
    "parallel_dpunit_basicblock.resnet18(224, 224, share_mask=False, s_ratio=0.5, c_ratio=0.5)\n",
    "parallel_dpunit_basicblock.resnet18(224, 224, share_mask=False, s_ratio=0.25, c_ratio=0.5)\n",
    "parallel_dpunit_basicblock.resnet18(224, 224, share_mask=False, s_ratio=0.75, c_ratio=0.25)\n",
    "parallel_dpunit_basicblock.resnet18(224, 224, share_mask=False, s_ratio=0.5, c_ratio=0.25)\n",
    "parallel_dpunit_basicblock.resnet18(224, 224, share_mask=False, s_ratio=0.25, c_ratio=0.25)"
   ]
  },
  {
   "cell_type": "code",
   "execution_count": 6,
   "metadata": {},
   "outputs": [
    {
     "name": "stdout",
     "output_type": "stream",
     "text": [
      "-------------------start-------------------\n",
      "Model: ResNet34 with spatial ratio 0.75 and channel ratio 0.75\n",
      "Averaged latency:23.27505111694336 in 100 times of test\n",
      "-------------------end-------------------\n",
      "\n",
      "-------------------start-------------------\n",
      "Model: ResNet34 with spatial ratio 0.5 and channel ratio 0.75\n",
      "Averaged latency:21.62843942642212 in 100 times of test\n",
      "-------------------end-------------------\n",
      "\n",
      "-------------------start-------------------\n",
      "Model: ResNet34 with spatial ratio 0.25 and channel ratio 0.75\n",
      "Averaged latency:19.97102975845337 in 100 times of test\n",
      "-------------------end-------------------\n",
      "\n",
      "-------------------start-------------------\n",
      "Model: ResNet34 with spatial ratio 0.75 and channel ratio 0.5\n",
      "Averaged latency:20.535094738006592 in 100 times of test\n",
      "-------------------end-------------------\n",
      "\n",
      "-------------------start-------------------\n",
      "Model: ResNet34 with spatial ratio 0.5 and channel ratio 0.5\n",
      "Averaged latency:18.99651527404785 in 100 times of test\n",
      "-------------------end-------------------\n",
      "\n",
      "-------------------start-------------------\n",
      "Model: ResNet34 with spatial ratio 0.25 and channel ratio 0.5\n",
      "Averaged latency:17.701265811920166 in 100 times of test\n",
      "-------------------end-------------------\n",
      "\n",
      "-------------------start-------------------\n",
      "Model: ResNet34 with spatial ratio 0.75 and channel ratio 0.25\n",
      "Averaged latency:17.514159679412842 in 100 times of test\n",
      "-------------------end-------------------\n",
      "\n",
      "-------------------start-------------------\n",
      "Model: ResNet34 with spatial ratio 0.5 and channel ratio 0.25\n",
      "Averaged latency:16.36200189590454 in 100 times of test\n",
      "-------------------end-------------------\n",
      "\n",
      "-------------------start-------------------\n",
      "Model: ResNet34 with spatial ratio 0.25 and channel ratio 0.25\n",
      "Averaged latency:15.076539516448975 in 100 times of test\n",
      "-------------------end-------------------\n",
      "\n"
     ]
    }
   ],
   "source": [
    "parallel_dpunit_basicblock.resnet34(224, 224, share_mask=False, s_ratio=0.75, c_ratio=0.75)\n",
    "parallel_dpunit_basicblock.resnet34(224, 224, share_mask=False, s_ratio=0.5, c_ratio=0.75)\n",
    "parallel_dpunit_basicblock.resnet34(224, 224, share_mask=False, s_ratio=0.25, c_ratio=0.75)\n",
    "parallel_dpunit_basicblock.resnet34(224, 224, share_mask=False, s_ratio=0.75, c_ratio=0.5)\n",
    "parallel_dpunit_basicblock.resnet34(224, 224, share_mask=False, s_ratio=0.5, c_ratio=0.5)\n",
    "parallel_dpunit_basicblock.resnet34(224, 224, share_mask=False, s_ratio=0.25, c_ratio=0.5)\n",
    "parallel_dpunit_basicblock.resnet34(224, 224, share_mask=False, s_ratio=0.75, c_ratio=0.25)\n",
    "parallel_dpunit_basicblock.resnet34(224, 224, share_mask=False, s_ratio=0.5, c_ratio=0.25)\n",
    "parallel_dpunit_basicblock.resnet34(224, 224, share_mask=False, s_ratio=0.25, c_ratio=0.25)"
   ]
  },
  {
   "cell_type": "code",
   "execution_count": null,
   "metadata": {},
   "outputs": [],
   "source": []
  }
 ],
 "metadata": {
  "kernelspec": {
   "display_name": "Python 3",
   "language": "python",
   "name": "python3"
  },
  "language_info": {
   "codemirror_mode": {
    "name": "ipython",
    "version": 3
   },
   "file_extension": ".py",
   "mimetype": "text/x-python",
   "name": "python",
   "nbconvert_exporter": "python",
   "pygments_lexer": "ipython3",
   "version": "3.6.5"
  }
 },
 "nbformat": 4,
 "nbformat_minor": 2
}
